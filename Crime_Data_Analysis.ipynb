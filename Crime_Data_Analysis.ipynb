{
 "cells": [
  {
   "cell_type": "markdown",
   "id": "b28b869c-617a-42c4-8a34-f47a2b4ec5b7",
   "metadata": {
    "jp-MarkdownHeadingCollapsed": true
   },
   "source": [
    "### Import the required libraries\n"
   ]
  },
  {
   "cell_type": "code",
   "execution_count": 1,
   "id": "8a933748-7e1b-437f-8978-1800f319d54d",
   "metadata": {},
   "outputs": [],
   "source": [
    "import numpy as np\n",
    "import pandas as pd\n",
    "import seaborn as sns\n",
    "import matplotlib.pyplot as plt\n",
    "%matplotlib inline \n",
    "# the matplotlib plots will appear directly below the cell in which the plot function was called\n",
    "\n",
    "from encodings.aliases import aliases\n"
   ]
  },
  {
   "cell_type": "markdown",
   "id": "ba8c032b-f22e-42fe-a3cb-943debc3be86",
   "metadata": {
    "jp-MarkdownHeadingCollapsed": true
   },
   "source": [
    "### Reading the csv file"
   ]
  },
  {
   "cell_type": "code",
   "execution_count": 2,
   "id": "9f01164d-4288-4882-9f1c-6eead518f6e9",
   "metadata": {},
   "outputs": [
    {
     "name": "stdout",
     "output_type": "stream",
     "text": [
      "success iso8859_13\n",
      "success iso8859_4\n",
      "success koi8_r\n",
      "success cp858\n",
      "success mac_iceland\n",
      "success iso8859_7\n",
      "success cp1257\n",
      "success cp1253\n",
      "success cp869\n",
      "success cp1252\n",
      "success cp857\n",
      "success latin_1\n",
      "success iso8859_2\n",
      "success hp_roman8\n",
      "success cp1258\n",
      "success cp863\n",
      "success iso8859_14\n",
      "success cp500\n",
      "success cp932\n",
      "success cp862\n",
      "success gbk\n",
      "success iso8859_11\n",
      "success cp437\n",
      "success cp1250\n",
      "success mac_roman\n",
      "success cp949\n",
      "success gb18030\n",
      "success cp273\n",
      "success cp861\n",
      "success iso8859_15\n",
      "success mac_latin2\n",
      "success cp852\n",
      "success iso8859_8\n",
      "success cp1125\n",
      "success cp1255\n",
      "success utf_16_le\n",
      "success ptcp154\n",
      "success iso8859_10\n",
      "success cp866\n",
      "success cp1256\n",
      "success iso8859_16\n",
      "success mbcs\n",
      "success mac_turkish\n",
      "success cp860\n",
      "success mac_greek\n",
      "success cp775\n",
      "success mac_cyrillic\n",
      "success iso8859_5\n",
      "success cp1254\n",
      "success cp850\n",
      "success cp1140\n",
      "success cp1251\n",
      "success cp864\n",
      "success cp037\n",
      "success cp865\n",
      "success iso8859_6\n",
      "success utf_16_be\n",
      "success iso8859_3\n",
      "success cp855\n",
      "success kz1048\n",
      "success iso8859_9\n",
      "success big5hkscs\n",
      "success cp1026\n"
     ]
    }
   ],
   "source": [
    "# to find the correct encoding that can be used, as in this case the default encoding uft-08 won't work\n",
    "alias_values = set(aliases.values())\n",
    "\n",
    "for encoding in set(aliases.values()):\n",
    "    try:\n",
    "        df = pd.read_csv(r'C:\\Users\\VAIBHAV\\OneDrive\\Desktop\\python for data analysis\\Criminal_Data_Analysis\\Crime.csv', nrows=10,encoding=encoding)\n",
    "        print('success',encoding)\n",
    "    except:\n",
    "        pass"
   ]
  },
  {
   "cell_type": "code",
   "execution_count": 3,
   "id": "57ebcfd1-738e-41b1-b512-0f17ba9a85cd",
   "metadata": {},
   "outputs": [],
   "source": [
    "# reading the file with one of the above encoding\n",
    "\n",
    "crime = pd.read_csv(r'C:\\Users\\VAIBHAV\\OneDrive\\Desktop\\python for data analysis\\Criminal_Data_Analysis\\Crime.csv', encoding='ISO-8859-11')"
   ]
  },
  {
   "cell_type": "code",
   "execution_count": 4,
   "id": "e1f61aaf-3571-4b4c-a18f-80ab6f7205d6",
   "metadata": {},
   "outputs": [
    {
     "data": {
      "text/html": [
       "<div>\n",
       "<style scoped>\n",
       "    .dataframe tbody tr th:only-of-type {\n",
       "        vertical-align: middle;\n",
       "    }\n",
       "\n",
       "    .dataframe tbody tr th {\n",
       "        vertical-align: top;\n",
       "    }\n",
       "\n",
       "    .dataframe thead th {\n",
       "        text-align: right;\n",
       "    }\n",
       "</style>\n",
       "<table border=\"1\" class=\"dataframe\">\n",
       "  <thead>\n",
       "    <tr style=\"text-align: right;\">\n",
       "      <th></th>\n",
       "      <th>INCIDENT_NUMBER</th>\n",
       "      <th>OFFENSE_CODE</th>\n",
       "      <th>OFFENSE_CODE_GROUP</th>\n",
       "      <th>OFFENSE_DESCRIPTION</th>\n",
       "      <th>DISTRICT</th>\n",
       "      <th>REPORTING_AREA</th>\n",
       "      <th>SHOOTING</th>\n",
       "      <th>OCCURRED_ON_DATE</th>\n",
       "      <th>YEAR</th>\n",
       "      <th>MONTH</th>\n",
       "      <th>DAY_OF_WEEK</th>\n",
       "      <th>HOUR</th>\n",
       "      <th>UCR_PART</th>\n",
       "      <th>STREET</th>\n",
       "      <th>Lat</th>\n",
       "      <th>Long</th>\n",
       "      <th>Location</th>\n",
       "    </tr>\n",
       "  </thead>\n",
       "  <tbody>\n",
       "    <tr>\n",
       "      <th>0</th>\n",
       "      <td>I182070945</td>\n",
       "      <td>619</td>\n",
       "      <td>Larceny</td>\n",
       "      <td>LARCENY ALL OTHERS</td>\n",
       "      <td>D14</td>\n",
       "      <td>808</td>\n",
       "      <td>NaN</td>\n",
       "      <td>2018-09-02 13:00:00</td>\n",
       "      <td>2018</td>\n",
       "      <td>9</td>\n",
       "      <td>Sunday</td>\n",
       "      <td>13</td>\n",
       "      <td>Part One</td>\n",
       "      <td>LINCOLN ST</td>\n",
       "      <td>42.357791</td>\n",
       "      <td>-71.139371</td>\n",
       "      <td>(42.35779134, -71.13937053)</td>\n",
       "    </tr>\n",
       "    <tr>\n",
       "      <th>1</th>\n",
       "      <td>I182070943</td>\n",
       "      <td>1402</td>\n",
       "      <td>Vandalism</td>\n",
       "      <td>VANDALISM</td>\n",
       "      <td>C11</td>\n",
       "      <td>347</td>\n",
       "      <td>NaN</td>\n",
       "      <td>2018-08-21 00:00:00</td>\n",
       "      <td>2018</td>\n",
       "      <td>8</td>\n",
       "      <td>Tuesday</td>\n",
       "      <td>0</td>\n",
       "      <td>Part Two</td>\n",
       "      <td>HECLA ST</td>\n",
       "      <td>42.306821</td>\n",
       "      <td>-71.060300</td>\n",
       "      <td>(42.30682138, -71.06030035)</td>\n",
       "    </tr>\n",
       "    <tr>\n",
       "      <th>2</th>\n",
       "      <td>I182070941</td>\n",
       "      <td>3410</td>\n",
       "      <td>Towed</td>\n",
       "      <td>TOWED MOTOR VEHICLE</td>\n",
       "      <td>D4</td>\n",
       "      <td>151</td>\n",
       "      <td>NaN</td>\n",
       "      <td>2018-09-03 19:27:00</td>\n",
       "      <td>2018</td>\n",
       "      <td>9</td>\n",
       "      <td>Monday</td>\n",
       "      <td>19</td>\n",
       "      <td>Part Three</td>\n",
       "      <td>CAZENOVE ST</td>\n",
       "      <td>42.346589</td>\n",
       "      <td>-71.072429</td>\n",
       "      <td>(42.34658879, -71.07242943)</td>\n",
       "    </tr>\n",
       "    <tr>\n",
       "      <th>3</th>\n",
       "      <td>I182070940</td>\n",
       "      <td>3114</td>\n",
       "      <td>Investigate Property</td>\n",
       "      <td>INVESTIGATE PROPERTY</td>\n",
       "      <td>D4</td>\n",
       "      <td>272</td>\n",
       "      <td>NaN</td>\n",
       "      <td>2018-09-03 21:16:00</td>\n",
       "      <td>2018</td>\n",
       "      <td>9</td>\n",
       "      <td>Monday</td>\n",
       "      <td>21</td>\n",
       "      <td>Part Three</td>\n",
       "      <td>NEWCOMB ST</td>\n",
       "      <td>42.334182</td>\n",
       "      <td>-71.078664</td>\n",
       "      <td>(42.33418175, -71.07866441)</td>\n",
       "    </tr>\n",
       "    <tr>\n",
       "      <th>4</th>\n",
       "      <td>I182070938</td>\n",
       "      <td>3114</td>\n",
       "      <td>Investigate Property</td>\n",
       "      <td>INVESTIGATE PROPERTY</td>\n",
       "      <td>B3</td>\n",
       "      <td>421</td>\n",
       "      <td>NaN</td>\n",
       "      <td>2018-09-03 21:05:00</td>\n",
       "      <td>2018</td>\n",
       "      <td>9</td>\n",
       "      <td>Monday</td>\n",
       "      <td>21</td>\n",
       "      <td>Part Three</td>\n",
       "      <td>DELHI ST</td>\n",
       "      <td>42.275365</td>\n",
       "      <td>-71.090361</td>\n",
       "      <td>(42.27536542, -71.09036101)</td>\n",
       "    </tr>\n",
       "  </tbody>\n",
       "</table>\n",
       "</div>"
      ],
      "text/plain": [
       "  INCIDENT_NUMBER  OFFENSE_CODE    OFFENSE_CODE_GROUP   OFFENSE_DESCRIPTION  \\\n",
       "0      I182070945           619               Larceny    LARCENY ALL OTHERS   \n",
       "1      I182070943          1402             Vandalism             VANDALISM   \n",
       "2      I182070941          3410                 Towed   TOWED MOTOR VEHICLE   \n",
       "3      I182070940          3114  Investigate Property  INVESTIGATE PROPERTY   \n",
       "4      I182070938          3114  Investigate Property  INVESTIGATE PROPERTY   \n",
       "\n",
       "  DISTRICT REPORTING_AREA SHOOTING     OCCURRED_ON_DATE  YEAR  MONTH  \\\n",
       "0      D14            808      NaN  2018-09-02 13:00:00  2018      9   \n",
       "1      C11            347      NaN  2018-08-21 00:00:00  2018      8   \n",
       "2       D4            151      NaN  2018-09-03 19:27:00  2018      9   \n",
       "3       D4            272      NaN  2018-09-03 21:16:00  2018      9   \n",
       "4       B3            421      NaN  2018-09-03 21:05:00  2018      9   \n",
       "\n",
       "  DAY_OF_WEEK  HOUR    UCR_PART       STREET        Lat       Long  \\\n",
       "0      Sunday    13    Part One   LINCOLN ST  42.357791 -71.139371   \n",
       "1     Tuesday     0    Part Two     HECLA ST  42.306821 -71.060300   \n",
       "2      Monday    19  Part Three  CAZENOVE ST  42.346589 -71.072429   \n",
       "3      Monday    21  Part Three   NEWCOMB ST  42.334182 -71.078664   \n",
       "4      Monday    21  Part Three     DELHI ST  42.275365 -71.090361   \n",
       "\n",
       "                      Location  \n",
       "0  (42.35779134, -71.13937053)  \n",
       "1  (42.30682138, -71.06030035)  \n",
       "2  (42.34658879, -71.07242943)  \n",
       "3  (42.33418175, -71.07866441)  \n",
       "4  (42.27536542, -71.09036101)  "
      ]
     },
     "execution_count": 4,
     "metadata": {},
     "output_type": "execute_result"
    }
   ],
   "source": [
    "crime.head()\n",
    "#see the first 5 rows of the table"
   ]
  },
  {
   "cell_type": "code",
   "execution_count": 5,
   "id": "47f023f1-2358-4d09-b1b2-fa82062e5d2e",
   "metadata": {},
   "outputs": [
    {
     "data": {
      "text/plain": [
       "(319073, 17)"
      ]
     },
     "execution_count": 5,
     "metadata": {},
     "output_type": "execute_result"
    }
   ],
   "source": [
    "crime.shape\n",
    "# see the no. of rows and cols"
   ]
  },
  {
   "cell_type": "markdown",
   "id": "9a7a612a-a242-466c-95af-5768178075a4",
   "metadata": {
    "jp-MarkdownHeadingCollapsed": true
   },
   "source": [
    "### finding the duplicate rows and deleting them"
   ]
  },
  {
   "cell_type": "code",
   "execution_count": 6,
   "id": "7bee6cba-d121-4f66-a62d-70b97c9d210d",
   "metadata": {},
   "outputs": [
    {
     "data": {
      "text/plain": [
       "23"
      ]
     },
     "execution_count": 6,
     "metadata": {},
     "output_type": "execute_result"
    }
   ],
   "source": [
    "crime.duplicated().sum()\n",
    "#to find the duplicated rows"
   ]
  },
  {
   "cell_type": "code",
   "execution_count": 7,
   "id": "41013ba2-07ea-459c-a56b-6d3ac93f855d",
   "metadata": {},
   "outputs": [],
   "source": [
    "crime.drop_duplicates(inplace=True)\n",
    "#deleting duplicate rows"
   ]
  },
  {
   "cell_type": "code",
   "execution_count": 8,
   "id": "6ebe0934-7c31-4dd8-bae7-58df0108f57b",
   "metadata": {},
   "outputs": [
    {
     "data": {
      "text/plain": [
       "(319050, 17)"
      ]
     },
     "execution_count": 8,
     "metadata": {},
     "output_type": "execute_result"
    }
   ],
   "source": [
    "crime.shape"
   ]
  },
  {
   "cell_type": "markdown",
   "id": "16668aa1-e2d9-4527-9718-02e6828da1de",
   "metadata": {
    "jp-MarkdownHeadingCollapsed": true
   },
   "source": [
    "### Exploring the datasets"
   ]
  },
  {
   "cell_type": "code",
   "execution_count": 9,
   "id": "ab4fa591-ea33-44a7-83e7-325758dd43fc",
   "metadata": {},
   "outputs": [
    {
     "name": "stdout",
     "output_type": "stream",
     "text": [
      "<class 'pandas.core.frame.DataFrame'>\n",
      "Index: 319050 entries, 0 to 319072\n",
      "Data columns (total 17 columns):\n",
      " #   Column               Non-Null Count   Dtype  \n",
      "---  ------               --------------   -----  \n",
      " 0   INCIDENT_NUMBER      319050 non-null  object \n",
      " 1   OFFENSE_CODE         319050 non-null  int64  \n",
      " 2   OFFENSE_CODE_GROUP   319050 non-null  object \n",
      " 3   OFFENSE_DESCRIPTION  319050 non-null  object \n",
      " 4   DISTRICT             317285 non-null  object \n",
      " 5   REPORTING_AREA       319050 non-null  object \n",
      " 6   SHOOTING             1019 non-null    object \n",
      " 7   OCCURRED_ON_DATE     319050 non-null  object \n",
      " 8   YEAR                 319050 non-null  int64  \n",
      " 9   MONTH                319050 non-null  int64  \n",
      " 10  DAY_OF_WEEK          319050 non-null  object \n",
      " 11  HOUR                 319050 non-null  int64  \n",
      " 12  UCR_PART             318960 non-null  object \n",
      " 13  STREET               308179 non-null  object \n",
      " 14  Lat                  299052 non-null  float64\n",
      " 15  Long                 299052 non-null  float64\n",
      " 16  Location             319050 non-null  object \n",
      "dtypes: float64(2), int64(4), object(11)\n",
      "memory usage: 43.8+ MB\n"
     ]
    }
   ],
   "source": [
    "crime.info()\n",
    "#summary info of the dataframe"
   ]
  },
  {
   "cell_type": "code",
   "execution_count": 10,
   "id": "3b3077db-3d49-4756-a8f8-c0c3f022e277",
   "metadata": {},
   "outputs": [],
   "source": [
    "# Changing the data type from object to datetime for the OCCURRED_ON_DATE column\n",
    "crime.OCCURRED_ON_DATE = pd.to_datetime(crime.OCCURRED_ON_DATE)"
   ]
  },
  {
   "cell_type": "code",
   "execution_count": 11,
   "id": "45b1d603-d1f5-42ad-a9f5-041fb7384c95",
   "metadata": {},
   "outputs": [
    {
     "name": "stdout",
     "output_type": "stream",
     "text": [
      "<class 'pandas.core.frame.DataFrame'>\n",
      "Index: 319050 entries, 0 to 319072\n",
      "Data columns (total 17 columns):\n",
      " #   Column               Non-Null Count   Dtype         \n",
      "---  ------               --------------   -----         \n",
      " 0   INCIDENT_NUMBER      319050 non-null  object        \n",
      " 1   OFFENSE_CODE         319050 non-null  int64         \n",
      " 2   OFFENSE_CODE_GROUP   319050 non-null  object        \n",
      " 3   OFFENSE_DESCRIPTION  319050 non-null  object        \n",
      " 4   DISTRICT             317285 non-null  object        \n",
      " 5   REPORTING_AREA       319050 non-null  object        \n",
      " 6   SHOOTING             1019 non-null    object        \n",
      " 7   OCCURRED_ON_DATE     319050 non-null  datetime64[ns]\n",
      " 8   YEAR                 319050 non-null  int64         \n",
      " 9   MONTH                319050 non-null  int64         \n",
      " 10  DAY_OF_WEEK          319050 non-null  object        \n",
      " 11  HOUR                 319050 non-null  int64         \n",
      " 12  UCR_PART             318960 non-null  object        \n",
      " 13  STREET               308179 non-null  object        \n",
      " 14  Lat                  299052 non-null  float64       \n",
      " 15  Long                 299052 non-null  float64       \n",
      " 16  Location             319050 non-null  object        \n",
      "dtypes: datetime64[ns](1), float64(2), int64(4), object(10)\n",
      "memory usage: 43.8+ MB\n"
     ]
    }
   ],
   "source": [
    "crime.info()"
   ]
  },
  {
   "cell_type": "code",
   "execution_count": 12,
   "id": "1bde508b-c5a7-46ab-94f3-5acad35dbf33",
   "metadata": {},
   "outputs": [
    {
     "data": {
      "text/plain": [
       "0         2018\n",
       "1         2018\n",
       "2         2018\n",
       "3         2018\n",
       "4         2018\n",
       "          ... \n",
       "319068    2016\n",
       "319069    2015\n",
       "319070    2015\n",
       "319071    2016\n",
       "319072    2015\n",
       "Name: OCCURRED_ON_DATE, Length: 319050, dtype: int32"
      ]
     },
     "execution_count": 12,
     "metadata": {},
     "output_type": "execute_result"
    }
   ],
   "source": [
    "# easily extract datetime information from the OCCURRED_ON_DATE column\n",
    "crime.OCCURRED_ON_DATE.dt.year"
   ]
  },
  {
   "cell_type": "code",
   "execution_count": 13,
   "id": "1aa9c069-df1d-4640-ba43-77c58f1b5a39",
   "metadata": {},
   "outputs": [
    {
     "data": {
      "text/plain": [
       "0         9\n",
       "1         8\n",
       "2         9\n",
       "3         9\n",
       "4         9\n",
       "         ..\n",
       "319068    6\n",
       "319069    7\n",
       "319070    7\n",
       "319071    5\n",
       "319072    6\n",
       "Name: OCCURRED_ON_DATE, Length: 319050, dtype: int32"
      ]
     },
     "execution_count": 13,
     "metadata": {},
     "output_type": "execute_result"
    }
   ],
   "source": [
    "crime.OCCURRED_ON_DATE.dt.month"
   ]
  },
  {
   "cell_type": "code",
   "execution_count": 14,
   "id": "6e074795-1093-49c5-a4f1-7ce977516cfa",
   "metadata": {},
   "outputs": [
    {
     "data": {
      "text/plain": [
       "0         13\n",
       "1          0\n",
       "2         19\n",
       "3         21\n",
       "4         21\n",
       "          ..\n",
       "319068    17\n",
       "319069    13\n",
       "319070    13\n",
       "319071    19\n",
       "319072     0\n",
       "Name: OCCURRED_ON_DATE, Length: 319050, dtype: int32"
      ]
     },
     "execution_count": 14,
     "metadata": {},
     "output_type": "execute_result"
    }
   ],
   "source": [
    "crime.OCCURRED_ON_DATE.dt.hour"
   ]
  },
  {
   "cell_type": "code",
   "execution_count": 15,
   "id": "1969463b-1b29-4964-9937-c28578ee49bc",
   "metadata": {},
   "outputs": [
    {
     "data": {
      "text/html": [
       "<div>\n",
       "<style scoped>\n",
       "    .dataframe tbody tr th:only-of-type {\n",
       "        vertical-align: middle;\n",
       "    }\n",
       "\n",
       "    .dataframe tbody tr th {\n",
       "        vertical-align: top;\n",
       "    }\n",
       "\n",
       "    .dataframe thead th {\n",
       "        text-align: right;\n",
       "    }\n",
       "</style>\n",
       "<table border=\"1\" class=\"dataframe\">\n",
       "  <thead>\n",
       "    <tr style=\"text-align: right;\">\n",
       "      <th></th>\n",
       "      <th>OFFENSE_CODE</th>\n",
       "      <th>OCCURRED_ON_DATE</th>\n",
       "      <th>YEAR</th>\n",
       "      <th>MONTH</th>\n",
       "      <th>HOUR</th>\n",
       "      <th>Lat</th>\n",
       "      <th>Long</th>\n",
       "    </tr>\n",
       "  </thead>\n",
       "  <tbody>\n",
       "    <tr>\n",
       "      <th>count</th>\n",
       "      <td>319050.000000</td>\n",
       "      <td>319050</td>\n",
       "      <td>319050.000000</td>\n",
       "      <td>319050.000000</td>\n",
       "      <td>319050.000000</td>\n",
       "      <td>299052.000000</td>\n",
       "      <td>299052.000000</td>\n",
       "    </tr>\n",
       "    <tr>\n",
       "      <th>mean</th>\n",
       "      <td>2317.516957</td>\n",
       "      <td>2017-01-25 12:35:59.149211904</td>\n",
       "      <td>2016.560674</td>\n",
       "      <td>6.609622</td>\n",
       "      <td>13.118176</td>\n",
       "      <td>42.214373</td>\n",
       "      <td>-70.908260</td>\n",
       "    </tr>\n",
       "    <tr>\n",
       "      <th>min</th>\n",
       "      <td>111.000000</td>\n",
       "      <td>2015-06-15 00:00:00</td>\n",
       "      <td>2015.000000</td>\n",
       "      <td>1.000000</td>\n",
       "      <td>0.000000</td>\n",
       "      <td>-1.000000</td>\n",
       "      <td>-71.178674</td>\n",
       "    </tr>\n",
       "    <tr>\n",
       "      <th>25%</th>\n",
       "      <td>1001.000000</td>\n",
       "      <td>2016-04-12 03:30:00</td>\n",
       "      <td>2016.000000</td>\n",
       "      <td>4.000000</td>\n",
       "      <td>9.000000</td>\n",
       "      <td>42.297438</td>\n",
       "      <td>-71.097135</td>\n",
       "    </tr>\n",
       "    <tr>\n",
       "      <th>50%</th>\n",
       "      <td>2907.000000</td>\n",
       "      <td>2017-01-28 04:36:00</td>\n",
       "      <td>2017.000000</td>\n",
       "      <td>7.000000</td>\n",
       "      <td>14.000000</td>\n",
       "      <td>42.325538</td>\n",
       "      <td>-71.077524</td>\n",
       "    </tr>\n",
       "    <tr>\n",
       "      <th>75%</th>\n",
       "      <td>3201.000000</td>\n",
       "      <td>2017-11-05 18:39:00</td>\n",
       "      <td>2017.000000</td>\n",
       "      <td>9.000000</td>\n",
       "      <td>18.000000</td>\n",
       "      <td>42.348624</td>\n",
       "      <td>-71.062467</td>\n",
       "    </tr>\n",
       "    <tr>\n",
       "      <th>max</th>\n",
       "      <td>3831.000000</td>\n",
       "      <td>2018-09-03 21:25:00</td>\n",
       "      <td>2018.000000</td>\n",
       "      <td>12.000000</td>\n",
       "      <td>23.000000</td>\n",
       "      <td>42.395042</td>\n",
       "      <td>-1.000000</td>\n",
       "    </tr>\n",
       "    <tr>\n",
       "      <th>std</th>\n",
       "      <td>1185.308921</td>\n",
       "      <td>NaN</td>\n",
       "      <td>0.996312</td>\n",
       "      <td>3.273677</td>\n",
       "      <td>6.294258</td>\n",
       "      <td>2.159845</td>\n",
       "      <td>3.493746</td>\n",
       "    </tr>\n",
       "  </tbody>\n",
       "</table>\n",
       "</div>"
      ],
      "text/plain": [
       "        OFFENSE_CODE               OCCURRED_ON_DATE           YEAR  \\\n",
       "count  319050.000000                         319050  319050.000000   \n",
       "mean     2317.516957  2017-01-25 12:35:59.149211904    2016.560674   \n",
       "min       111.000000            2015-06-15 00:00:00    2015.000000   \n",
       "25%      1001.000000            2016-04-12 03:30:00    2016.000000   \n",
       "50%      2907.000000            2017-01-28 04:36:00    2017.000000   \n",
       "75%      3201.000000            2017-11-05 18:39:00    2017.000000   \n",
       "max      3831.000000            2018-09-03 21:25:00    2018.000000   \n",
       "std      1185.308921                            NaN       0.996312   \n",
       "\n",
       "               MONTH           HOUR            Lat           Long  \n",
       "count  319050.000000  319050.000000  299052.000000  299052.000000  \n",
       "mean        6.609622      13.118176      42.214373     -70.908260  \n",
       "min         1.000000       0.000000      -1.000000     -71.178674  \n",
       "25%         4.000000       9.000000      42.297438     -71.097135  \n",
       "50%         7.000000      14.000000      42.325538     -71.077524  \n",
       "75%         9.000000      18.000000      42.348624     -71.062467  \n",
       "max        12.000000      23.000000      42.395042      -1.000000  \n",
       "std         3.273677       6.294258       2.159845       3.493746  "
      ]
     },
     "execution_count": 15,
     "metadata": {},
     "output_type": "execute_result"
    }
   ],
   "source": [
    "crime.describe()\n",
    "#summary info on numeric cols"
   ]
  },
  {
   "cell_type": "code",
   "execution_count": 16,
   "id": "7266654d-9444-4061-8504-899693f6fd5a",
   "metadata": {},
   "outputs": [
    {
     "data": {
      "text/html": [
       "<div>\n",
       "<style scoped>\n",
       "    .dataframe tbody tr th:only-of-type {\n",
       "        vertical-align: middle;\n",
       "    }\n",
       "\n",
       "    .dataframe tbody tr th {\n",
       "        vertical-align: top;\n",
       "    }\n",
       "\n",
       "    .dataframe thead th {\n",
       "        text-align: right;\n",
       "    }\n",
       "</style>\n",
       "<table border=\"1\" class=\"dataframe\">\n",
       "  <thead>\n",
       "    <tr style=\"text-align: right;\">\n",
       "      <th></th>\n",
       "      <th>INCIDENT_NUMBER</th>\n",
       "      <th>OFFENSE_CODE_GROUP</th>\n",
       "      <th>OFFENSE_DESCRIPTION</th>\n",
       "      <th>DISTRICT</th>\n",
       "      <th>REPORTING_AREA</th>\n",
       "      <th>SHOOTING</th>\n",
       "      <th>DAY_OF_WEEK</th>\n",
       "      <th>UCR_PART</th>\n",
       "      <th>STREET</th>\n",
       "      <th>Location</th>\n",
       "    </tr>\n",
       "  </thead>\n",
       "  <tbody>\n",
       "    <tr>\n",
       "      <th>count</th>\n",
       "      <td>319050</td>\n",
       "      <td>319050</td>\n",
       "      <td>319050</td>\n",
       "      <td>317285</td>\n",
       "      <td>319050</td>\n",
       "      <td>1019</td>\n",
       "      <td>319050</td>\n",
       "      <td>318960</td>\n",
       "      <td>308179</td>\n",
       "      <td>319050</td>\n",
       "    </tr>\n",
       "    <tr>\n",
       "      <th>unique</th>\n",
       "      <td>282517</td>\n",
       "      <td>67</td>\n",
       "      <td>244</td>\n",
       "      <td>12</td>\n",
       "      <td>879</td>\n",
       "      <td>1</td>\n",
       "      <td>7</td>\n",
       "      <td>4</td>\n",
       "      <td>4657</td>\n",
       "      <td>18194</td>\n",
       "    </tr>\n",
       "    <tr>\n",
       "      <th>top</th>\n",
       "      <td>I162030584</td>\n",
       "      <td>Motor Vehicle Accident Response</td>\n",
       "      <td>SICK/INJURED/MEDICAL - PERSON</td>\n",
       "      <td>B2</td>\n",
       "      <td></td>\n",
       "      <td>Y</td>\n",
       "      <td>Friday</td>\n",
       "      <td>Part Three</td>\n",
       "      <td>WASHINGTON ST</td>\n",
       "      <td>(0.00000000, 0.00000000)</td>\n",
       "    </tr>\n",
       "    <tr>\n",
       "      <th>freq</th>\n",
       "      <td>13</td>\n",
       "      <td>37132</td>\n",
       "      <td>18783</td>\n",
       "      <td>49940</td>\n",
       "      <td>20250</td>\n",
       "      <td>1019</td>\n",
       "      <td>48489</td>\n",
       "      <td>158537</td>\n",
       "      <td>14192</td>\n",
       "      <td>19998</td>\n",
       "    </tr>\n",
       "  </tbody>\n",
       "</table>\n",
       "</div>"
      ],
      "text/plain": [
       "       INCIDENT_NUMBER               OFFENSE_CODE_GROUP  \\\n",
       "count           319050                           319050   \n",
       "unique          282517                               67   \n",
       "top         I162030584  Motor Vehicle Accident Response   \n",
       "freq                13                            37132   \n",
       "\n",
       "                  OFFENSE_DESCRIPTION DISTRICT REPORTING_AREA SHOOTING  \\\n",
       "count                          319050   317285         319050     1019   \n",
       "unique                            244       12            879        1   \n",
       "top     SICK/INJURED/MEDICAL - PERSON       B2                       Y   \n",
       "freq                            18783    49940          20250     1019   \n",
       "\n",
       "       DAY_OF_WEEK    UCR_PART         STREET                  Location  \n",
       "count       319050      318960         308179                    319050  \n",
       "unique           7           4           4657                     18194  \n",
       "top         Friday  Part Three  WASHINGTON ST  (0.00000000, 0.00000000)  \n",
       "freq         48489      158537          14192                     19998  "
      ]
     },
     "execution_count": 16,
     "metadata": {},
     "output_type": "execute_result"
    }
   ],
   "source": [
    "crime.describe(include='object')\n",
    "#summary info on the non-numeric cols"
   ]
  },
  {
   "cell_type": "code",
   "execution_count": 17,
   "id": "8fb09b3e-d33c-4ff5-b9b1-8de59b6c9b11",
   "metadata": {},
   "outputs": [
    {
     "data": {
      "text/plain": [
       "Index(['INCIDENT_NUMBER', 'OFFENSE_CODE', 'OFFENSE_CODE_GROUP',\n",
       "       'OFFENSE_DESCRIPTION', 'DISTRICT', 'REPORTING_AREA', 'SHOOTING',\n",
       "       'OCCURRED_ON_DATE', 'YEAR', 'MONTH', 'DAY_OF_WEEK', 'HOUR', 'UCR_PART',\n",
       "       'STREET', 'Lat', 'Long', 'Location'],\n",
       "      dtype='object')"
      ]
     },
     "execution_count": 17,
     "metadata": {},
     "output_type": "execute_result"
    }
   ],
   "source": [
    "crime.columns"
   ]
  },
  {
   "cell_type": "code",
   "execution_count": 18,
   "id": "c3288574-a4af-490c-b18c-8d43343d35ae",
   "metadata": {},
   "outputs": [
    {
     "data": {
      "text/plain": [
       "Index(['DISTRICT', 'SHOOTING', 'UCR_PART', 'STREET', 'Lat', 'Long'], dtype='object')"
      ]
     },
     "execution_count": 18,
     "metadata": {},
     "output_type": "execute_result"
    }
   ],
   "source": [
    "crime.columns[crime.isnull().sum() != 0]\n",
    "#checking for cols with missing values\n",
    "# another method would be using numpy\n",
    "# crime.columns[np.sum(crime.isnull())!=0]"
   ]
  },
  {
   "cell_type": "code",
   "execution_count": 19,
   "id": "0ae0c01e-00a0-41b5-a064-c6c4645d37a8",
   "metadata": {},
   "outputs": [
    {
     "data": {
      "text/plain": [
       "Index(['INCIDENT_NUMBER', 'OFFENSE_CODE', 'OFFENSE_CODE_GROUP',\n",
       "       'OFFENSE_DESCRIPTION', 'REPORTING_AREA', 'OCCURRED_ON_DATE', 'YEAR',\n",
       "       'MONTH', 'DAY_OF_WEEK', 'HOUR', 'Location'],\n",
       "      dtype='object')"
      ]
     },
     "execution_count": 19,
     "metadata": {},
     "output_type": "execute_result"
    }
   ],
   "source": [
    "crime.columns[crime.isnull().sum() == 0]\n",
    "\n",
    "#checking for cols with no missing values"
   ]
  },
  {
   "cell_type": "code",
   "execution_count": 20,
   "id": "16a5f675-4e05-4d9d-860c-8b01cee62ae9",
   "metadata": {},
   "outputs": [
    {
     "name": "stdout",
     "output_type": "stream",
     "text": [
      "INCIDENT_NUMBER has 282517 unique values\n",
      "OFFENSE_CODE has 222 unique values\n",
      "OFFENSE_CODE_GROUP has 67 unique values\n",
      "OFFENSE_DESCRIPTION has 244 unique values\n",
      "DISTRICT has 12 unique values\n",
      "REPORTING_AREA has 879 unique values\n",
      "SHOOTING has 1 unique values\n",
      "OCCURRED_ON_DATE has 233229 unique values\n",
      "YEAR has 4 unique values\n",
      "MONTH has 12 unique values\n",
      "DAY_OF_WEEK has 7 unique values\n",
      "HOUR has 24 unique values\n",
      "UCR_PART has 4 unique values\n",
      "STREET has 4657 unique values\n",
      "Lat has 18178 unique values\n",
      "Long has 18178 unique values\n",
      "Location has 18194 unique values\n"
     ]
    }
   ],
   "source": [
    "# checking for unique values in every col\n",
    "\n",
    "for col in crime.columns:\n",
    "    unique_cnt = crime[col].nunique()\n",
    "    print(col + \" has \" + str(unique_cnt) + ' unique values')"
   ]
  },
  {
   "cell_type": "markdown",
   "id": "239ba2a3-f040-4162-a954-de22211481e5",
   "metadata": {},
   "source": [
    "## Answering some questions related to this data"
   ]
  },
  {
   "cell_type": "markdown",
   "id": "c9924075-4c73-4190-ba19-faf8394114c5",
   "metadata": {
    "jp-MarkdownHeadingCollapsed": true
   },
   "source": [
    "### What are the most common crimes in terms of offense group?"
   ]
  },
  {
   "cell_type": "code",
   "execution_count": 21,
   "id": "31baa70e-e737-4238-9c45-f3bea3b0852d",
   "metadata": {},
   "outputs": [
    {
     "data": {
      "text/plain": [
       "OFFENSE_CODE_GROUP\n",
       "Motor Vehicle Accident Response              37132\n",
       "Larceny                                      25935\n",
       "Medical Assistance                           23540\n",
       "Investigate Person                           18749\n",
       "Other                                        18073\n",
       "                                             ...  \n",
       "HUMAN TRAFFICKING                                7\n",
       "INVESTIGATE PERSON                               4\n",
       "Biological Threat                                2\n",
       "HUMAN TRAFFICKING - INVOLUNTARY SERVITUDE        2\n",
       "Burglary - No Property Taken                     2\n",
       "Name: count, Length: 67, dtype: int64"
      ]
     },
     "execution_count": 21,
     "metadata": {},
     "output_type": "execute_result"
    }
   ],
   "source": [
    "crime.OFFENSE_CODE_GROUP.value_counts()"
   ]
  },
  {
   "cell_type": "code",
   "execution_count": 22,
   "id": "d601c47d-b9c7-4f60-9012-ccc73566d689",
   "metadata": {},
   "outputs": [
    {
     "data": {
      "text/plain": [
       "OFFENSE_CODE_GROUP\n",
       "Motor Vehicle Accident Response    37132\n",
       "Larceny                            25935\n",
       "Medical Assistance                 23540\n",
       "Investigate Person                 18749\n",
       "Other                              18073\n",
       "Drug Violation                     16545\n",
       "Simple Assault                     15826\n",
       "Vandalism                          15414\n",
       "Verbal Disputes                    13099\n",
       "Towed                              11287\n",
       "Name: count, dtype: int64"
      ]
     },
     "metadata": {},
     "output_type": "display_data"
    },
    {
     "data": {
      "text/plain": [
       "Text(0, 0.5, 'Frequency')"
      ]
     },
     "execution_count": 22,
     "metadata": {},
     "output_type": "execute_result"
    },
    {
     "data": {
      "image/png": "[encoded data removed]",
      "text/plain": [
       "<Figure size 1200x600 with 1 Axes>"
      ]
     },
     "metadata": {},
     "output_type": "display_data"
    }
   ],
   "source": [
    "dt = crime.OFFENSE_CODE_GROUP.value_counts()[:10]\n",
    "\n",
    "display(dt)\n",
    "plt.figure(figsize=(12, 6))\n",
    "\n",
    "# generates a different number corresponding to a unique color from the color group to use\n",
    "colors = plt.cm.viridis(np.linspace(0, 1, len(dt)))\n",
    "\n",
    "dt.plot(kind='bar',color=colors);\n",
    "plt.title('Top 10 Offense Groups')\n",
    "plt.xlabel('Offense Groups')\n",
    "plt.ylabel('Frequency')"
   ]
  },
  {
   "cell_type": "code",
   "execution_count": 23,
   "id": "873f02ec-07af-4ed0-b3d8-521bd20059da",
   "metadata": {},
   "outputs": [
    {
     "data": {
      "text/plain": [
       "OFFENSE_CODE_GROUP\n",
       "Motor Vehicle Accident Response    0.116383\n",
       "Larceny                            0.081288\n",
       "Medical Assistance                 0.073782\n",
       "Investigate Person                 0.058765\n",
       "Other                              0.056646\n",
       "Drug Violation                     0.051857\n",
       "Simple Assault                     0.049604\n",
       "Vandalism                          0.048312\n",
       "Verbal Disputes                    0.041056\n",
       "Towed                              0.035377\n",
       "Name: count, dtype: float64"
      ]
     },
     "metadata": {},
     "output_type": "display_data"
    },
    {
     "data": {
      "text/plain": [
       "Text(0.5, 0, 'Offense Groups')"
      ]
     },
     "execution_count": 23,
     "metadata": {},
     "output_type": "execute_result"
    },
    {
     "data": {
      "image/png": "[encoded data removed]",
      "text/plain": [
       "<Figure size 1200x600 with 1 Axes>"
      ]
     },
     "metadata": {},
     "output_type": "display_data"
    }
   ],
   "source": [
    "dt = crime.OFFENSE_CODE_GROUP.value_counts()[:10]\n",
    "\n",
    "display(dt/crime.shape[0])\n",
    "plt.figure(figsize=(12, 6))\n",
    "\n",
    "# generates a different number corresponding to a unique color from the color group to use\n",
    "colors = plt.cm.viridis(np.linspace(0, 1, len(dt)))\n",
    "\n",
    "(dt/crime.shape[0]).plot(kind='bar',color=colors);\n",
    "plt.title('Top 10 Offense Groups(as % of all crimes)')\n",
    "plt.xlabel('Offense Groups')\n",
    "#plt.ylabel('Frequency')"
   ]
  },
  {
   "cell_type": "markdown",
   "id": "8690b8ce-1a7b-450e-a7d7-f48a78c493a4",
   "metadata": {
    "jp-MarkdownHeadingCollapsed": true
   },
   "source": [
    "### What are the least common crimes in terms of offense group?"
   ]
  },
  {
   "cell_type": "code",
   "execution_count": 24,
   "id": "9f4a37b7-306a-47c7-84a6-f9bb097c47f5",
   "metadata": {},
   "outputs": [
    {
     "data": {
      "text/plain": [
       "OFFENSE_CODE_GROUP\n",
       "Burglary - No Property Taken                  2\n",
       "HUMAN TRAFFICKING - INVOLUNTARY SERVITUDE     2\n",
       "Biological Threat                             2\n",
       "INVESTIGATE PERSON                            4\n",
       "HUMAN TRAFFICKING                             7\n",
       "Gambling                                      8\n",
       "Manslaughter                                  8\n",
       "Explosives                                   27\n",
       "Phone Call Complaints                        31\n",
       "Aircraft                                     36\n",
       "Name: count, dtype: int64"
      ]
     },
     "execution_count": 24,
     "metadata": {},
     "output_type": "execute_result"
    }
   ],
   "source": [
    "crime.OFFENSE_CODE_GROUP.value_counts().sort_values(ascending=True)[:10]"
   ]
  },
  {
   "cell_type": "code",
   "execution_count": 25,
   "id": "6dd4523e-31cd-4268-be88-d5f749ad2d80",
   "metadata": {},
   "outputs": [
    {
     "data": {
      "text/plain": [
       "'Least Common Offense Groups'"
      ]
     },
     "metadata": {},
     "output_type": "display_data"
    },
    {
     "data": {
      "text/plain": [
       "OFFENSE_CODE_GROUP\n",
       "Burglary - No Property Taken                  2\n",
       "HUMAN TRAFFICKING - INVOLUNTARY SERVITUDE     2\n",
       "Biological Threat                             2\n",
       "INVESTIGATE PERSON                            4\n",
       "HUMAN TRAFFICKING                             7\n",
       "Gambling                                      8\n",
       "Manslaughter                                  8\n",
       "Explosives                                   27\n",
       "Phone Call Complaints                        31\n",
       "Aircraft                                     36\n",
       "Name: count, dtype: int64"
      ]
     },
     "metadata": {},
     "output_type": "display_data"
    },
    {
     "data": {
      "text/plain": [
       "Text(0, 0.5, 'Frequency')"
      ]
     },
     "execution_count": 25,
     "metadata": {},
     "output_type": "execute_result"
    },
    {
     "data": {
      "image/png": "[encoded data removed]",
      "text/plain": [
       "<Figure size 1200x600 with 1 Axes>"
      ]
     },
     "metadata": {},
     "output_type": "display_data"
    }
   ],
   "source": [
    "dt = crime.OFFENSE_CODE_GROUP.value_counts().sort_values(ascending=True)[:10]\n",
    "\n",
    "display('Least Common Offense Groups')\n",
    "display(dt)\n",
    "plt.figure(figsize=(12,6))\n",
    "\n",
    "# generates a different number corresponding to a unique color from the color group to use\n",
    "colors = plt.cm.viridis(np.linspace(0, 1, len(dt)))\n",
    "\n",
    "dt.plot(kind='bar', color=colors)\n",
    "plt.title('Least Common Offense Groups')\n",
    "plt.xlabel('Offense Group')\n",
    "plt.ylabel('Frequency')\n",
    "\n",
    "\n"
   ]
  },
  {
   "cell_type": "code",
   "execution_count": 26,
   "id": "04849fb6-5302-424f-822f-e20cd4ace285",
   "metadata": {},
   "outputs": [
    {
     "data": {
      "text/plain": [
       "'Least Common Offense Groups(as % of all crimes)'"
      ]
     },
     "metadata": {},
     "output_type": "display_data"
    },
    {
     "data": {
      "text/plain": [
       "OFFENSE_CODE_GROUP\n",
       "Burglary - No Property Taken                 0.000006\n",
       "HUMAN TRAFFICKING - INVOLUNTARY SERVITUDE    0.000006\n",
       "Biological Threat                            0.000006\n",
       "INVESTIGATE PERSON                           0.000013\n",
       "HUMAN TRAFFICKING                            0.000022\n",
       "Gambling                                     0.000025\n",
       "Manslaughter                                 0.000025\n",
       "Explosives                                   0.000085\n",
       "Phone Call Complaints                        0.000097\n",
       "Aircraft                                     0.000113\n",
       "Name: count, dtype: float64"
      ]
     },
     "metadata": {},
     "output_type": "display_data"
    },
    {
     "data": {
      "text/plain": [
       "Text(0.5, 0, 'Offense Group')"
      ]
     },
     "execution_count": 26,
     "metadata": {},
     "output_type": "execute_result"
    },
    {
     "data": {
      "image/png": "[encoded data removed]",
      "text/plain": [
       "<Figure size 1200x600 with 1 Axes>"
      ]
     },
     "metadata": {},
     "output_type": "display_data"
    }
   ],
   "source": [
    "dt = crime.OFFENSE_CODE_GROUP.value_counts().sort_values(ascending=True)[:10]\n",
    "\n",
    "plt.figure(figsize=(12,6))\n",
    "\n",
    "# generates a different number corresponding to a unique color from the color group to use\n",
    "colors = plt.cm.viridis(np.linspace(0, 1, len(dt)))\n",
    "\n",
    "\n",
    "display('Least Common Offense Groups(as % of all crimes)')\n",
    "display(dt/crime.shape[0])\n",
    "(dt/crime.shape[0]).plot(kind='bar', color=colors)\n",
    "plt.title('Least Common Offense Groups(as % of all crimes)')\n",
    "plt.xlabel('Offense Group')"
   ]
  },
  {
   "cell_type": "markdown",
   "id": "e23da0c4-6257-4bdd-9d7a-a6674d2c42ed",
   "metadata": {
    "jp-MarkdownHeadingCollapsed": true
   },
   "source": [
    "### What are the most common offense descriptions?"
   ]
  },
  {
   "cell_type": "code",
   "execution_count": 27,
   "id": "d1d982e9-945b-4cb9-bf65-ee216d9ae5a0",
   "metadata": {},
   "outputs": [
    {
     "data": {
      "text/plain": [
       "OFFENSE_DESCRIPTION\n",
       "SICK/INJURED/MEDICAL - PERSON                  18783\n",
       "INVESTIGATE PERSON                             18753\n",
       "M/V - LEAVING SCENE - PROPERTY DAMAGE          16323\n",
       "VANDALISM                                      15153\n",
       "ASSAULT SIMPLE - BATTERY                       14791\n",
       "                                               ...  \n",
       "KILLING OF FELON BY POLICE                         1\n",
       "AUTO THEFT - OUTSIDE - RECOVERED IN BOSTON         1\n",
       "DRUGS - GLUE INHALATION                            1\n",
       "ROBBERY - KNIFE - STREET                           1\n",
       "DRUGS - POSS CLASS D - INTENT MFR DIST DISP        1\n",
       "Name: count, Length: 244, dtype: int64"
      ]
     },
     "execution_count": 27,
     "metadata": {},
     "output_type": "execute_result"
    }
   ],
   "source": [
    "crime.OFFENSE_DESCRIPTION.value_counts()"
   ]
  },
  {
   "cell_type": "code",
   "execution_count": 28,
   "id": "c165e8ec-c999-4d4a-9592-4c5532e98e22",
   "metadata": {},
   "outputs": [
    {
     "data": {
      "text/plain": [
       "OFFENSE_DESCRIPTION\n",
       "SICK/INJURED/MEDICAL - PERSON            18783\n",
       "INVESTIGATE PERSON                       18753\n",
       "M/V - LEAVING SCENE - PROPERTY DAMAGE    16323\n",
       "VANDALISM                                15153\n",
       "ASSAULT SIMPLE - BATTERY                 14791\n",
       "VERBAL DISPUTE                           13099\n",
       "TOWED MOTOR VEHICLE                      11287\n",
       "INVESTIGATE PROPERTY                     11124\n",
       "LARCENY THEFT FROM BUILDING               9069\n",
       "THREATS TO DO BODILY HARM                 9042\n",
       "Name: count, dtype: int64"
      ]
     },
     "execution_count": 28,
     "metadata": {},
     "output_type": "execute_result"
    }
   ],
   "source": [
    "crime.OFFENSE_DESCRIPTION.value_counts()[:10]"
   ]
  },
  {
   "cell_type": "code",
   "execution_count": 29,
   "id": "1f6a001e-1ca2-493c-abf8-b07ed45022c8",
   "metadata": {},
   "outputs": [
    {
     "data": {
      "text/plain": [
       "OFFENSE_DESCRIPTION\n",
       "SICK/INJURED/MEDICAL - PERSON            18783\n",
       "INVESTIGATE PERSON                       18753\n",
       "M/V - LEAVING SCENE - PROPERTY DAMAGE    16323\n",
       "VANDALISM                                15153\n",
       "ASSAULT SIMPLE - BATTERY                 14791\n",
       "VERBAL DISPUTE                           13099\n",
       "TOWED MOTOR VEHICLE                      11287\n",
       "INVESTIGATE PROPERTY                     11124\n",
       "LARCENY THEFT FROM BUILDING               9069\n",
       "THREATS TO DO BODILY HARM                 9042\n",
       "Name: count, dtype: int64"
      ]
     },
     "metadata": {},
     "output_type": "display_data"
    },
    {
     "data": {
      "text/plain": [
       "Text(0, 0.5, 'Frequency')"
      ]
     },
     "execution_count": 29,
     "metadata": {},
     "output_type": "execute_result"
    },
    {
     "data": {
      "image/png": "[encoded data removed]",
      "text/plain": [
       "<Figure size 1200x600 with 1 Axes>"
      ]
     },
     "metadata": {},
     "output_type": "display_data"
    }
   ],
   "source": [
    "dt = crime.OFFENSE_DESCRIPTION.value_counts()[:10]\n",
    "\n",
    "plt.figure(figsize=(12,6))\n",
    "\n",
    "display(dt)\n",
    "\n",
    "dt.plot(kind='bar')\n",
    "plt.title('Most Offense Description')\n",
    "plt.xlabel('Offense Description')\n",
    "plt.ylabel('Frequency')"
   ]
  },
  {
   "cell_type": "markdown",
   "id": "ab980b1c-37df-4d7a-a35d-ba9ad50d302e",
   "metadata": {
    "jp-MarkdownHeadingCollapsed": true
   },
   "source": [
    "### Number of crimes per year"
   ]
  },
  {
   "cell_type": "code",
   "execution_count": 30,
   "id": "1d803053-6f5e-4e78-9312-1f4347cb13b1",
   "metadata": {},
   "outputs": [
    {
     "data": {
      "text/plain": [
       "YEAR\n",
       "2015     53371\n",
       "2016     99110\n",
       "2017    100884\n",
       "2018     65685\n",
       "Name: INCIDENT_NUMBER, dtype: int64"
      ]
     },
     "execution_count": 30,
     "metadata": {},
     "output_type": "execute_result"
    }
   ],
   "source": [
    "crime.groupby('YEAR').count()['INCIDENT_NUMBER']"
   ]
  },
  {
   "cell_type": "markdown",
   "id": "e6718d11-ce14-4ccc-aca0-2e9cdb352e9c",
   "metadata": {
    "jp-MarkdownHeadingCollapsed": true
   },
   "source": [
    "### In which year most crimes were committed?"
   ]
  },
  {
   "cell_type": "code",
   "execution_count": 31,
   "id": "81608120-1b80-4686-9f0b-89dc071c015c",
   "metadata": {},
   "outputs": [
    {
     "data": {
      "text/plain": [
       "YEAR\n",
       "2015     53371\n",
       "2016     99110\n",
       "2017    100884\n",
       "2018     65685\n",
       "Name: INCIDENT_NUMBER, dtype: int64"
      ]
     },
     "metadata": {},
     "output_type": "display_data"
    },
    {
     "data": {
      "text/plain": [
       "Text(0.5, 0, 'Years')"
      ]
     },
     "execution_count": 31,
     "metadata": {},
     "output_type": "execute_result"
    },
    {
     "data": {
      "image/png": "[encoded data removed]",
      "text/plain": [
       "<Figure size 640x480 with 1 Axes>"
      ]
     },
     "metadata": {},
     "output_type": "display_data"
    }
   ],
   "source": [
    "dt = crime.groupby('YEAR').count()['INCIDENT_NUMBER']\n",
    "\n",
    "display(dt)\n",
    "\n",
    "# plt.figure(figsize=(12,6))\n",
    "dt.plot(kind='bar')\n",
    "plt.xlabel('Years')"
   ]
  },
  {
   "cell_type": "markdown",
   "id": "5be2fc66-0a0c-4876-8e95-c2aadbe27276",
   "metadata": {
    "jp-MarkdownHeadingCollapsed": true
   },
   "source": [
    "### Are there more crimes committed on specific dates?"
   ]
  },
  {
   "cell_type": "code",
   "execution_count": 32,
   "id": "f2f3f88d-1a24-4445-9045-2cbc3a5b36c0",
   "metadata": {},
   "outputs": [
    {
     "data": {
      "text/plain": [
       "DAY_OF_WEEK\n",
       "Friday       48489\n",
       "Wednesday    46727\n",
       "Thursday     46655\n",
       "Tuesday      46376\n",
       "Monday       45674\n",
       "Saturday     44816\n",
       "Sunday       40313\n",
       "Name: INCIDENT_NUMBER, dtype: int64"
      ]
     },
     "metadata": {},
     "output_type": "display_data"
    },
    {
     "data": {
      "text/plain": [
       "Text(0.5, 1.0, 'Day of the week')"
      ]
     },
     "execution_count": 32,
     "metadata": {},
     "output_type": "execute_result"
    },
    {
     "data": {
      "image/png": "[encoded data removed]",
      "text/plain": [
       "<Figure size 640x480 with 1 Axes>"
      ]
     },
     "metadata": {},
     "output_type": "display_data"
    }
   ],
   "source": [
    "dt = crime.groupby('DAY_OF_WEEK').count()['INCIDENT_NUMBER'].sort_values(ascending=False)\n",
    "\n",
    "display(dt)\n",
    "\n",
    "dt.plot(kind='bar')\n",
    "plt.title('Day of the week')"
   ]
  },
  {
   "cell_type": "markdown",
   "id": "3cdf0ee0-8dec-4560-8862-18f9dcb7c082",
   "metadata": {
    "jp-MarkdownHeadingCollapsed": true
   },
   "source": [
    "### Are there more crimes happening at specific hours?"
   ]
  },
  {
   "cell_type": "code",
   "execution_count": 33,
   "id": "08da0910-7a34-4e1b-968d-23dbc32e65e0",
   "metadata": {},
   "outputs": [
    {
     "data": {
      "text/plain": [
       "HOUR\n",
       "0     15106\n",
       "1      9267\n",
       "2      7693\n",
       "3      4589\n",
       "4      3408\n",
       "5      3311\n",
       "6      5026\n",
       "7      8850\n",
       "8     13042\n",
       "9     14740\n",
       "10    16345\n",
       "11    16445\n",
       "12    18676\n",
       "13    16845\n",
       "14    17189\n",
       "15    16519\n",
       "16    19870\n",
       "17    20762\n",
       "18    20301\n",
       "19    17587\n",
       "20    15849\n",
       "21    14109\n",
       "22    12925\n",
       "23    10596\n",
       "Name: INCIDENT_NUMBER, dtype: int64"
      ]
     },
     "metadata": {},
     "output_type": "display_data"
    },
    {
     "data": {
      "text/plain": [
       "Text(0.5, 1.0, 'Hour wise crime rate')"
      ]
     },
     "execution_count": 33,
     "metadata": {},
     "output_type": "execute_result"
    },
    {
     "data": {
      "image/png": "[encoded data removed]",
      "text/plain": [
       "<Figure size 640x480 with 1 Axes>"
      ]
     },
     "metadata": {},
     "output_type": "display_data"
    }
   ],
   "source": [
    "dt = crime.groupby('HOUR').count()['INCIDENT_NUMBER']\n",
    "\n",
    "display(dt)\n",
    "\n",
    "dt.plot(kind='bar')\n",
    "plt.title('Hour wise crime rate')"
   ]
  },
  {
   "cell_type": "markdown",
   "id": "ab9aacf5-0f1d-4f5b-990b-517078493af2",
   "metadata": {
    "jp-MarkdownHeadingCollapsed": true
   },
   "source": [
    "### On what days at which hours most crimes are committed"
   ]
  },
  {
   "cell_type": "code",
   "execution_count": 36,
   "id": "495ac916-3b59-48bd-b572-845479a1268f",
   "metadata": {},
   "outputs": [
    {
     "data": {
      "text/html": [
       "<div>\n",
       "<style scoped>\n",
       "    .dataframe tbody tr th:only-of-type {\n",
       "        vertical-align: middle;\n",
       "    }\n",
       "\n",
       "    .dataframe tbody tr th {\n",
       "        vertical-align: top;\n",
       "    }\n",
       "\n",
       "    .dataframe thead th {\n",
       "        text-align: right;\n",
       "    }\n",
       "</style>\n",
       "<table border=\"1\" class=\"dataframe\">\n",
       "  <thead>\n",
       "    <tr style=\"text-align: right;\">\n",
       "      <th>DAY_OF_WEEK</th>\n",
       "      <th>Friday</th>\n",
       "      <th>Monday</th>\n",
       "      <th>Saturday</th>\n",
       "      <th>Sunday</th>\n",
       "      <th>Thursday</th>\n",
       "      <th>Tuesday</th>\n",
       "      <th>Wednesday</th>\n",
       "    </tr>\n",
       "    <tr>\n",
       "      <th>HOUR</th>\n",
       "      <th></th>\n",
       "      <th></th>\n",
       "      <th></th>\n",
       "      <th></th>\n",
       "      <th></th>\n",
       "      <th></th>\n",
       "      <th></th>\n",
       "    </tr>\n",
       "  </thead>\n",
       "  <tbody>\n",
       "    <tr>\n",
       "      <th>0</th>\n",
       "      <td>2161</td>\n",
       "      <td>2000</td>\n",
       "      <td>2612</td>\n",
       "      <td>2400</td>\n",
       "      <td>2039</td>\n",
       "      <td>1897</td>\n",
       "      <td>1997</td>\n",
       "    </tr>\n",
       "    <tr>\n",
       "      <th>1</th>\n",
       "      <td>1275</td>\n",
       "      <td>1058</td>\n",
       "      <td>1855</td>\n",
       "      <td>2043</td>\n",
       "      <td>1077</td>\n",
       "      <td>1017</td>\n",
       "      <td>942</td>\n",
       "    </tr>\n",
       "    <tr>\n",
       "      <th>2</th>\n",
       "      <td>952</td>\n",
       "      <td>846</td>\n",
       "      <td>1827</td>\n",
       "      <td>1855</td>\n",
       "      <td>774</td>\n",
       "      <td>641</td>\n",
       "      <td>798</td>\n",
       "    </tr>\n",
       "    <tr>\n",
       "      <th>3</th>\n",
       "      <td>532</td>\n",
       "      <td>583</td>\n",
       "      <td>957</td>\n",
       "      <td>1119</td>\n",
       "      <td>526</td>\n",
       "      <td>460</td>\n",
       "      <td>412</td>\n",
       "    </tr>\n",
       "    <tr>\n",
       "      <th>4</th>\n",
       "      <td>441</td>\n",
       "      <td>386</td>\n",
       "      <td>672</td>\n",
       "      <td>704</td>\n",
       "      <td>436</td>\n",
       "      <td>399</td>\n",
       "      <td>370</td>\n",
       "    </tr>\n",
       "    <tr>\n",
       "      <th>5</th>\n",
       "      <td>485</td>\n",
       "      <td>417</td>\n",
       "      <td>478</td>\n",
       "      <td>517</td>\n",
       "      <td>508</td>\n",
       "      <td>462</td>\n",
       "      <td>444</td>\n",
       "    </tr>\n",
       "    <tr>\n",
       "      <th>6</th>\n",
       "      <td>768</td>\n",
       "      <td>709</td>\n",
       "      <td>530</td>\n",
       "      <td>543</td>\n",
       "      <td>866</td>\n",
       "      <td>787</td>\n",
       "      <td>823</td>\n",
       "    </tr>\n",
       "    <tr>\n",
       "      <th>7</th>\n",
       "      <td>1398</td>\n",
       "      <td>1352</td>\n",
       "      <td>1078</td>\n",
       "      <td>758</td>\n",
       "      <td>1405</td>\n",
       "      <td>1418</td>\n",
       "      <td>1441</td>\n",
       "    </tr>\n",
       "    <tr>\n",
       "      <th>8</th>\n",
       "      <td>2041</td>\n",
       "      <td>2046</td>\n",
       "      <td>1515</td>\n",
       "      <td>1123</td>\n",
       "      <td>2037</td>\n",
       "      <td>2145</td>\n",
       "      <td>2135</td>\n",
       "    </tr>\n",
       "    <tr>\n",
       "      <th>9</th>\n",
       "      <td>2299</td>\n",
       "      <td>2148</td>\n",
       "      <td>1812</td>\n",
       "      <td>1457</td>\n",
       "      <td>2325</td>\n",
       "      <td>2322</td>\n",
       "      <td>2377</td>\n",
       "    </tr>\n",
       "    <tr>\n",
       "      <th>10</th>\n",
       "      <td>2668</td>\n",
       "      <td>2432</td>\n",
       "      <td>2064</td>\n",
       "      <td>1778</td>\n",
       "      <td>2496</td>\n",
       "      <td>2414</td>\n",
       "      <td>2493</td>\n",
       "    </tr>\n",
       "    <tr>\n",
       "      <th>11</th>\n",
       "      <td>2552</td>\n",
       "      <td>2373</td>\n",
       "      <td>2042</td>\n",
       "      <td>1802</td>\n",
       "      <td>2548</td>\n",
       "      <td>2529</td>\n",
       "      <td>2599</td>\n",
       "    </tr>\n",
       "    <tr>\n",
       "      <th>12</th>\n",
       "      <td>2860</td>\n",
       "      <td>2746</td>\n",
       "      <td>2588</td>\n",
       "      <td>2135</td>\n",
       "      <td>2821</td>\n",
       "      <td>2681</td>\n",
       "      <td>2845</td>\n",
       "    </tr>\n",
       "    <tr>\n",
       "      <th>13</th>\n",
       "      <td>2499</td>\n",
       "      <td>2479</td>\n",
       "      <td>2223</td>\n",
       "      <td>1980</td>\n",
       "      <td>2576</td>\n",
       "      <td>2493</td>\n",
       "      <td>2595</td>\n",
       "    </tr>\n",
       "    <tr>\n",
       "      <th>14</th>\n",
       "      <td>2601</td>\n",
       "      <td>2485</td>\n",
       "      <td>2378</td>\n",
       "      <td>2029</td>\n",
       "      <td>2536</td>\n",
       "      <td>2555</td>\n",
       "      <td>2605</td>\n",
       "    </tr>\n",
       "    <tr>\n",
       "      <th>15</th>\n",
       "      <td>2566</td>\n",
       "      <td>2438</td>\n",
       "      <td>2084</td>\n",
       "      <td>1918</td>\n",
       "      <td>2531</td>\n",
       "      <td>2503</td>\n",
       "      <td>2479</td>\n",
       "    </tr>\n",
       "    <tr>\n",
       "      <th>16</th>\n",
       "      <td>3073</td>\n",
       "      <td>3029</td>\n",
       "      <td>2445</td>\n",
       "      <td>2216</td>\n",
       "      <td>2974</td>\n",
       "      <td>3080</td>\n",
       "      <td>3053</td>\n",
       "    </tr>\n",
       "    <tr>\n",
       "      <th>17</th>\n",
       "      <td>3252</td>\n",
       "      <td>3253</td>\n",
       "      <td>2555</td>\n",
       "      <td>2377</td>\n",
       "      <td>2931</td>\n",
       "      <td>3241</td>\n",
       "      <td>3153</td>\n",
       "    </tr>\n",
       "    <tr>\n",
       "      <th>18</th>\n",
       "      <td>3010</td>\n",
       "      <td>3089</td>\n",
       "      <td>2528</td>\n",
       "      <td>2326</td>\n",
       "      <td>3033</td>\n",
       "      <td>3217</td>\n",
       "      <td>3098</td>\n",
       "    </tr>\n",
       "    <tr>\n",
       "      <th>19</th>\n",
       "      <td>2564</td>\n",
       "      <td>2606</td>\n",
       "      <td>2301</td>\n",
       "      <td>2114</td>\n",
       "      <td>2510</td>\n",
       "      <td>2768</td>\n",
       "      <td>2724</td>\n",
       "    </tr>\n",
       "    <tr>\n",
       "      <th>20</th>\n",
       "      <td>2307</td>\n",
       "      <td>2319</td>\n",
       "      <td>2131</td>\n",
       "      <td>2109</td>\n",
       "      <td>2349</td>\n",
       "      <td>2369</td>\n",
       "      <td>2265</td>\n",
       "    </tr>\n",
       "    <tr>\n",
       "      <th>21</th>\n",
       "      <td>2089</td>\n",
       "      <td>2003</td>\n",
       "      <td>2077</td>\n",
       "      <td>1902</td>\n",
       "      <td>2070</td>\n",
       "      <td>1925</td>\n",
       "      <td>2043</td>\n",
       "    </tr>\n",
       "    <tr>\n",
       "      <th>22</th>\n",
       "      <td>2160</td>\n",
       "      <td>1634</td>\n",
       "      <td>2113</td>\n",
       "      <td>1728</td>\n",
       "      <td>1795</td>\n",
       "      <td>1757</td>\n",
       "      <td>1738</td>\n",
       "    </tr>\n",
       "    <tr>\n",
       "      <th>23</th>\n",
       "      <td>1936</td>\n",
       "      <td>1243</td>\n",
       "      <td>1951</td>\n",
       "      <td>1380</td>\n",
       "      <td>1492</td>\n",
       "      <td>1296</td>\n",
       "      <td>1298</td>\n",
       "    </tr>\n",
       "  </tbody>\n",
       "</table>\n",
       "</div>"
      ],
      "text/plain": [
       "DAY_OF_WEEK  Friday  Monday  Saturday  Sunday  Thursday  Tuesday  Wednesday\n",
       "HOUR                                                                       \n",
       "0              2161    2000      2612    2400      2039     1897       1997\n",
       "1              1275    1058      1855    2043      1077     1017        942\n",
       "2               952     846      1827    1855       774      641        798\n",
       "3               532     583       957    1119       526      460        412\n",
       "4               441     386       672     704       436      399        370\n",
       "5               485     417       478     517       508      462        444\n",
       "6               768     709       530     543       866      787        823\n",
       "7              1398    1352      1078     758      1405     1418       1441\n",
       "8              2041    2046      1515    1123      2037     2145       2135\n",
       "9              2299    2148      1812    1457      2325     2322       2377\n",
       "10             2668    2432      2064    1778      2496     2414       2493\n",
       "11             2552    2373      2042    1802      2548     2529       2599\n",
       "12             2860    2746      2588    2135      2821     2681       2845\n",
       "13             2499    2479      2223    1980      2576     2493       2595\n",
       "14             2601    2485      2378    2029      2536     2555       2605\n",
       "15             2566    2438      2084    1918      2531     2503       2479\n",
       "16             3073    3029      2445    2216      2974     3080       3053\n",
       "17             3252    3253      2555    2377      2931     3241       3153\n",
       "18             3010    3089      2528    2326      3033     3217       3098\n",
       "19             2564    2606      2301    2114      2510     2768       2724\n",
       "20             2307    2319      2131    2109      2349     2369       2265\n",
       "21             2089    2003      2077    1902      2070     1925       2043\n",
       "22             2160    1634      2113    1728      1795     1757       1738\n",
       "23             1936    1243      1951    1380      1492     1296       1298"
      ]
     },
     "execution_count": 36,
     "metadata": {},
     "output_type": "execute_result"
    }
   ],
   "source": [
    "crime.groupby(['HOUR','DAY_OF_WEEK']).count()['INCIDENT_NUMBER'].unstack()"
   ]
  },
  {
   "cell_type": "code",
   "execution_count": 37,
   "id": "00d9bc9e-9875-49f6-a1f6-bf3818cc37e8",
   "metadata": {},
   "outputs": [],
   "source": [
    "week_and_hour = crime.groupby(['HOUR','DAY_OF_WEEK']).count()['INCIDENT_NUMBER'].unstack()"
   ]
  },
  {
   "cell_type": "code",
   "execution_count": 38,
   "id": "2ba69d6e-0f02-47d7-94d3-46f75f80aac8",
   "metadata": {},
   "outputs": [],
   "source": [
    "week_and_hour.columns = ['Monday','Tuesday','Wednesday','Thursday','Friday','Saturday','Sunday']\n",
    "\n",
    "# to reorganize the columns in the format of monday, tuesday,............,sunday"
   ]
  },
  {
   "cell_type": "code",
   "execution_count": 46,
   "id": "4c2cbdc4-91ae-48fc-aafe-d27910adfe1e",
   "metadata": {},
   "outputs": [
    {
     "data": {
      "image/png": "[encoded data removed]",
      "text/plain": [
       "<Figure size 640x480 with 2 Axes>"
      ]
     },
     "metadata": {},
     "output_type": "display_data"
    }
   ],
   "source": [
    "ax = sns.heatmap(week_and_hour,cmap=sns.cubehelix_palette(as_cmap=True))\n"
   ]
  },
  {
   "cell_type": "markdown",
   "id": "db74d2bd-9470-4e3f-a839-9a54036eac6f",
   "metadata": {
    "jp-MarkdownHeadingCollapsed": true
   },
   "source": [
    "### Months which had below average crime rate"
   ]
  },
  {
   "cell_type": "code",
   "execution_count": 65,
   "id": "5b9ecb28-f5c6-43d2-ba61-dec715a42fec",
   "metadata": {},
   "outputs": [
    {
     "name": "stdout",
     "output_type": "stream",
     "text": [
      "The average crime is 7976.25\n"
     ]
    },
    {
     "data": {
      "text/html": [
       "<style type=\"text/css\">\n",
       "#T_26e24_row0_col1, #T_26e24_row0_col3, #T_26e24_row1_col1, #T_26e24_row1_col2, #T_26e24_row1_col3, #T_26e24_row2_col3, #T_26e24_row3_col3, #T_26e24_row5_col0, #T_26e24_row8_col3, #T_26e24_row10_col0, #T_26e24_row10_col1, #T_26e24_row10_col2, #T_26e24_row11_col1, #T_26e24_row11_col2 {\n",
       "  color: blue;\n",
       "}\n",
       "</style>\n",
       "<table id=\"T_26e24\">\n",
       "  <thead>\n",
       "    <tr>\n",
       "      <th class=\"index_name level0\" >YEAR</th>\n",
       "      <th id=\"T_26e24_level0_col0\" class=\"col_heading level0 col0\" >2015</th>\n",
       "      <th id=\"T_26e24_level0_col1\" class=\"col_heading level0 col1\" >2016</th>\n",
       "      <th id=\"T_26e24_level0_col2\" class=\"col_heading level0 col2\" >2017</th>\n",
       "      <th id=\"T_26e24_level0_col3\" class=\"col_heading level0 col3\" >2018</th>\n",
       "    </tr>\n",
       "    <tr>\n",
       "      <th class=\"index_name level0\" >MONTH</th>\n",
       "      <th class=\"blank col0\" >&nbsp;</th>\n",
       "      <th class=\"blank col1\" >&nbsp;</th>\n",
       "      <th class=\"blank col2\" >&nbsp;</th>\n",
       "      <th class=\"blank col3\" >&nbsp;</th>\n",
       "    </tr>\n",
       "  </thead>\n",
       "  <tbody>\n",
       "    <tr>\n",
       "      <th id=\"T_26e24_level0_row0\" class=\"row_heading level0 row0\" >1</th>\n",
       "      <td id=\"T_26e24_row0_col0\" class=\"data row0 col0\" >nan</td>\n",
       "      <td id=\"T_26e24_row0_col1\" class=\"data row0 col1\" >7835.000000</td>\n",
       "      <td id=\"T_26e24_row0_col2\" class=\"data row0 col2\" >7991.000000</td>\n",
       "      <td id=\"T_26e24_row0_col3\" class=\"data row0 col3\" >7782.000000</td>\n",
       "    </tr>\n",
       "    <tr>\n",
       "      <th id=\"T_26e24_level0_row1\" class=\"row_heading level0 row1\" >2</th>\n",
       "      <td id=\"T_26e24_row1_col0\" class=\"data row1 col0\" >nan</td>\n",
       "      <td id=\"T_26e24_row1_col1\" class=\"data row1 col1\" >7307.000000</td>\n",
       "      <td id=\"T_26e24_row1_col2\" class=\"data row1 col2\" >7408.000000</td>\n",
       "      <td id=\"T_26e24_row1_col3\" class=\"data row1 col3\" >6937.000000</td>\n",
       "    </tr>\n",
       "    <tr>\n",
       "      <th id=\"T_26e24_level0_row2\" class=\"row_heading level0 row2\" >3</th>\n",
       "      <td id=\"T_26e24_row2_col0\" class=\"data row2 col0\" >nan</td>\n",
       "      <td id=\"T_26e24_row2_col1\" class=\"data row2 col1\" >8199.000000</td>\n",
       "      <td id=\"T_26e24_row2_col2\" class=\"data row2 col2\" >8179.000000</td>\n",
       "      <td id=\"T_26e24_row2_col3\" class=\"data row2 col3\" >7768.000000</td>\n",
       "    </tr>\n",
       "    <tr>\n",
       "      <th id=\"T_26e24_level0_row3\" class=\"row_heading level0 row3\" >4</th>\n",
       "      <td id=\"T_26e24_row3_col0\" class=\"data row3 col0\" >nan</td>\n",
       "      <td id=\"T_26e24_row3_col1\" class=\"data row3 col1\" >8101.000000</td>\n",
       "      <td id=\"T_26e24_row3_col2\" class=\"data row3 col2\" >8069.000000</td>\n",
       "      <td id=\"T_26e24_row3_col3\" class=\"data row3 col3\" >7916.000000</td>\n",
       "    </tr>\n",
       "    <tr>\n",
       "      <th id=\"T_26e24_level0_row4\" class=\"row_heading level0 row4\" >5</th>\n",
       "      <td id=\"T_26e24_row4_col0\" class=\"data row4 col0\" >nan</td>\n",
       "      <td id=\"T_26e24_row4_col1\" class=\"data row4 col1\" >8578.000000</td>\n",
       "      <td id=\"T_26e24_row4_col2\" class=\"data row4 col2\" >8715.000000</td>\n",
       "      <td id=\"T_26e24_row4_col3\" class=\"data row4 col3\" >8906.000000</td>\n",
       "    </tr>\n",
       "    <tr>\n",
       "      <th id=\"T_26e24_level0_row5\" class=\"row_heading level0 row5\" >6</th>\n",
       "      <td id=\"T_26e24_row5_col0\" class=\"data row5 col0\" >4188.000000</td>\n",
       "      <td id=\"T_26e24_row5_col1\" class=\"data row5 col1\" >8558.000000</td>\n",
       "      <td id=\"T_26e24_row5_col2\" class=\"data row5 col2\" >8985.000000</td>\n",
       "      <td id=\"T_26e24_row5_col3\" class=\"data row5 col3\" >8834.000000</td>\n",
       "    </tr>\n",
       "    <tr>\n",
       "      <th id=\"T_26e24_level0_row6\" class=\"row_heading level0 row6\" >7</th>\n",
       "      <td id=\"T_26e24_row6_col0\" class=\"data row6 col0\" >8322.000000</td>\n",
       "      <td id=\"T_26e24_row6_col1\" class=\"data row6 col1\" >8618.000000</td>\n",
       "      <td id=\"T_26e24_row6_col2\" class=\"data row6 col2\" >9075.000000</td>\n",
       "      <td id=\"T_26e24_row6_col3\" class=\"data row6 col3\" >8538.000000</td>\n",
       "    </tr>\n",
       "    <tr>\n",
       "      <th id=\"T_26e24_level0_row7\" class=\"row_heading level0 row7\" >8</th>\n",
       "      <td id=\"T_26e24_row7_col0\" class=\"data row7 col0\" >8340.000000</td>\n",
       "      <td id=\"T_26e24_row7_col1\" class=\"data row7 col1\" >8938.000000</td>\n",
       "      <td id=\"T_26e24_row7_col2\" class=\"data row7 col2\" >9206.000000</td>\n",
       "      <td id=\"T_26e24_row7_col3\" class=\"data row7 col3\" >8337.000000</td>\n",
       "    </tr>\n",
       "    <tr>\n",
       "      <th id=\"T_26e24_level0_row8\" class=\"row_heading level0 row8\" >9</th>\n",
       "      <td id=\"T_26e24_row8_col0\" class=\"data row8 col0\" >8411.000000</td>\n",
       "      <td id=\"T_26e24_row8_col1\" class=\"data row8 col1\" >8521.000000</td>\n",
       "      <td id=\"T_26e24_row8_col2\" class=\"data row8 col2\" >8940.000000</td>\n",
       "      <td id=\"T_26e24_row8_col3\" class=\"data row8 col3\" >667.000000</td>\n",
       "    </tr>\n",
       "    <tr>\n",
       "      <th id=\"T_26e24_level0_row9\" class=\"row_heading level0 row9\" >10</th>\n",
       "      <td id=\"T_26e24_row9_col0\" class=\"data row9 col0\" >8305.000000</td>\n",
       "      <td id=\"T_26e24_row9_col1\" class=\"data row9 col1\" >8582.000000</td>\n",
       "      <td id=\"T_26e24_row9_col2\" class=\"data row9 col2\" >8846.000000</td>\n",
       "      <td id=\"T_26e24_row9_col3\" class=\"data row9 col3\" >nan</td>\n",
       "    </tr>\n",
       "    <tr>\n",
       "      <th id=\"T_26e24_level0_row10\" class=\"row_heading level0 row10\" >11</th>\n",
       "      <td id=\"T_26e24_row10_col0\" class=\"data row10 col0\" >7818.000000</td>\n",
       "      <td id=\"T_26e24_row10_col1\" class=\"data row10 col1\" >7922.000000</td>\n",
       "      <td id=\"T_26e24_row10_col2\" class=\"data row10 col2\" >7935.000000</td>\n",
       "      <td id=\"T_26e24_row10_col3\" class=\"data row10 col3\" >nan</td>\n",
       "    </tr>\n",
       "    <tr>\n",
       "      <th id=\"T_26e24_level0_row11\" class=\"row_heading level0 row11\" >12</th>\n",
       "      <td id=\"T_26e24_row11_col0\" class=\"data row11 col0\" >7987.000000</td>\n",
       "      <td id=\"T_26e24_row11_col1\" class=\"data row11 col1\" >7951.000000</td>\n",
       "      <td id=\"T_26e24_row11_col2\" class=\"data row11 col2\" >7535.000000</td>\n",
       "      <td id=\"T_26e24_row11_col3\" class=\"data row11 col3\" >nan</td>\n",
       "    </tr>\n",
       "  </tbody>\n",
       "</table>\n"
      ],
      "text/plain": [
       "<pandas.io.formats.style.Styler at 0x252ff93bd70>"
      ]
     },
     "execution_count": 65,
     "metadata": {},
     "output_type": "execute_result"
    }
   ],
   "source": [
    "avg_crime = crime.groupby(['YEAR','MONTH']).count()['INCIDENT_NUMBER'].mean()\n",
    "print('The average crime is ' + str(avg_crime))\n",
    "\n",
    "year_and_month = crime.groupby(['MONTH','YEAR']).count()['INCIDENT_NUMBER'].unstack()\n",
    "\n",
    "def style_negative(v,props=''):\n",
    "    return props if v < avg_crime else None\n",
    "s2 = year_and_month.style.map(style_negative, props='color:blue')\\\n",
    ".map(lambda v:'opacity:20%' if(v<0.3) and (v>-0.3) else None)\n",
    "\n",
    "s2\n",
    "\n",
    "# display(year_and_month)\n",
    "# sns.heatmap(year_and_month,cmap=sns.cubehelix_palette(as_cmap=True))"
   ]
  },
  {
   "cell_type": "code",
   "execution_count": 66,
   "id": "18d9585f-3f1a-468f-b3c5-eb74a67d38ef",
   "metadata": {},
   "outputs": [
    {
     "data": {
      "text/html": [
       "<style type=\"text/css\">\n",
       "#T_26e24_row0_col1, #T_26e24_row0_col3, #T_26e24_row1_col1, #T_26e24_row1_col2, #T_26e24_row1_col3, #T_26e24_row2_col3, #T_26e24_row3_col3, #T_26e24_row5_col0, #T_26e24_row8_col3, #T_26e24_row10_col0, #T_26e24_row10_col1, #T_26e24_row10_col2, #T_26e24_row11_col1, #T_26e24_row11_col2 {\n",
       "  color: blue;\n",
       "}\n",
       "#T_26e24_row4_col3, #T_26e24_row7_col1, #T_26e24_row7_col2, #T_26e24_row8_col0 {\n",
       "  color: white;\n",
       "  background-color: darkgreen;\n",
       "}\n",
       "</style>\n",
       "<table id=\"T_26e24\">\n",
       "  <thead>\n",
       "    <tr>\n",
       "      <th class=\"index_name level0\" >YEAR</th>\n",
       "      <th id=\"T_26e24_level0_col0\" class=\"col_heading level0 col0\" >2015</th>\n",
       "      <th id=\"T_26e24_level0_col1\" class=\"col_heading level0 col1\" >2016</th>\n",
       "      <th id=\"T_26e24_level0_col2\" class=\"col_heading level0 col2\" >2017</th>\n",
       "      <th id=\"T_26e24_level0_col3\" class=\"col_heading level0 col3\" >2018</th>\n",
       "    </tr>\n",
       "    <tr>\n",
       "      <th class=\"index_name level0\" >MONTH</th>\n",
       "      <th class=\"blank col0\" >&nbsp;</th>\n",
       "      <th class=\"blank col1\" >&nbsp;</th>\n",
       "      <th class=\"blank col2\" >&nbsp;</th>\n",
       "      <th class=\"blank col3\" >&nbsp;</th>\n",
       "    </tr>\n",
       "  </thead>\n",
       "  <tbody>\n",
       "    <tr>\n",
       "      <th id=\"T_26e24_level0_row0\" class=\"row_heading level0 row0\" >1</th>\n",
       "      <td id=\"T_26e24_row0_col0\" class=\"data row0 col0\" >nan</td>\n",
       "      <td id=\"T_26e24_row0_col1\" class=\"data row0 col1\" >7835.000000</td>\n",
       "      <td id=\"T_26e24_row0_col2\" class=\"data row0 col2\" >7991.000000</td>\n",
       "      <td id=\"T_26e24_row0_col3\" class=\"data row0 col3\" >7782.000000</td>\n",
       "    </tr>\n",
       "    <tr>\n",
       "      <th id=\"T_26e24_level0_row1\" class=\"row_heading level0 row1\" >2</th>\n",
       "      <td id=\"T_26e24_row1_col0\" class=\"data row1 col0\" >nan</td>\n",
       "      <td id=\"T_26e24_row1_col1\" class=\"data row1 col1\" >7307.000000</td>\n",
       "      <td id=\"T_26e24_row1_col2\" class=\"data row1 col2\" >7408.000000</td>\n",
       "      <td id=\"T_26e24_row1_col3\" class=\"data row1 col3\" >6937.000000</td>\n",
       "    </tr>\n",
       "    <tr>\n",
       "      <th id=\"T_26e24_level0_row2\" class=\"row_heading level0 row2\" >3</th>\n",
       "      <td id=\"T_26e24_row2_col0\" class=\"data row2 col0\" >nan</td>\n",
       "      <td id=\"T_26e24_row2_col1\" class=\"data row2 col1\" >8199.000000</td>\n",
       "      <td id=\"T_26e24_row2_col2\" class=\"data row2 col2\" >8179.000000</td>\n",
       "      <td id=\"T_26e24_row2_col3\" class=\"data row2 col3\" >7768.000000</td>\n",
       "    </tr>\n",
       "    <tr>\n",
       "      <th id=\"T_26e24_level0_row3\" class=\"row_heading level0 row3\" >4</th>\n",
       "      <td id=\"T_26e24_row3_col0\" class=\"data row3 col0\" >nan</td>\n",
       "      <td id=\"T_26e24_row3_col1\" class=\"data row3 col1\" >8101.000000</td>\n",
       "      <td id=\"T_26e24_row3_col2\" class=\"data row3 col2\" >8069.000000</td>\n",
       "      <td id=\"T_26e24_row3_col3\" class=\"data row3 col3\" >7916.000000</td>\n",
       "    </tr>\n",
       "    <tr>\n",
       "      <th id=\"T_26e24_level0_row4\" class=\"row_heading level0 row4\" >5</th>\n",
       "      <td id=\"T_26e24_row4_col0\" class=\"data row4 col0\" >nan</td>\n",
       "      <td id=\"T_26e24_row4_col1\" class=\"data row4 col1\" >8578.000000</td>\n",
       "      <td id=\"T_26e24_row4_col2\" class=\"data row4 col2\" >8715.000000</td>\n",
       "      <td id=\"T_26e24_row4_col3\" class=\"data row4 col3\" >8906.000000</td>\n",
       "    </tr>\n",
       "    <tr>\n",
       "      <th id=\"T_26e24_level0_row5\" class=\"row_heading level0 row5\" >6</th>\n",
       "      <td id=\"T_26e24_row5_col0\" class=\"data row5 col0\" >4188.000000</td>\n",
       "      <td id=\"T_26e24_row5_col1\" class=\"data row5 col1\" >8558.000000</td>\n",
       "      <td id=\"T_26e24_row5_col2\" class=\"data row5 col2\" >8985.000000</td>\n",
       "      <td id=\"T_26e24_row5_col3\" class=\"data row5 col3\" >8834.000000</td>\n",
       "    </tr>\n",
       "    <tr>\n",
       "      <th id=\"T_26e24_level0_row6\" class=\"row_heading level0 row6\" >7</th>\n",
       "      <td id=\"T_26e24_row6_col0\" class=\"data row6 col0\" >8322.000000</td>\n",
       "      <td id=\"T_26e24_row6_col1\" class=\"data row6 col1\" >8618.000000</td>\n",
       "      <td id=\"T_26e24_row6_col2\" class=\"data row6 col2\" >9075.000000</td>\n",
       "      <td id=\"T_26e24_row6_col3\" class=\"data row6 col3\" >8538.000000</td>\n",
       "    </tr>\n",
       "    <tr>\n",
       "      <th id=\"T_26e24_level0_row7\" class=\"row_heading level0 row7\" >8</th>\n",
       "      <td id=\"T_26e24_row7_col0\" class=\"data row7 col0\" >8340.000000</td>\n",
       "      <td id=\"T_26e24_row7_col1\" class=\"data row7 col1\" >8938.000000</td>\n",
       "      <td id=\"T_26e24_row7_col2\" class=\"data row7 col2\" >9206.000000</td>\n",
       "      <td id=\"T_26e24_row7_col3\" class=\"data row7 col3\" >8337.000000</td>\n",
       "    </tr>\n",
       "    <tr>\n",
       "      <th id=\"T_26e24_level0_row8\" class=\"row_heading level0 row8\" >9</th>\n",
       "      <td id=\"T_26e24_row8_col0\" class=\"data row8 col0\" >8411.000000</td>\n",
       "      <td id=\"T_26e24_row8_col1\" class=\"data row8 col1\" >8521.000000</td>\n",
       "      <td id=\"T_26e24_row8_col2\" class=\"data row8 col2\" >8940.000000</td>\n",
       "      <td id=\"T_26e24_row8_col3\" class=\"data row8 col3\" >667.000000</td>\n",
       "    </tr>\n",
       "    <tr>\n",
       "      <th id=\"T_26e24_level0_row9\" class=\"row_heading level0 row9\" >10</th>\n",
       "      <td id=\"T_26e24_row9_col0\" class=\"data row9 col0\" >8305.000000</td>\n",
       "      <td id=\"T_26e24_row9_col1\" class=\"data row9 col1\" >8582.000000</td>\n",
       "      <td id=\"T_26e24_row9_col2\" class=\"data row9 col2\" >8846.000000</td>\n",
       "      <td id=\"T_26e24_row9_col3\" class=\"data row9 col3\" >nan</td>\n",
       "    </tr>\n",
       "    <tr>\n",
       "      <th id=\"T_26e24_level0_row10\" class=\"row_heading level0 row10\" >11</th>\n",
       "      <td id=\"T_26e24_row10_col0\" class=\"data row10 col0\" >7818.000000</td>\n",
       "      <td id=\"T_26e24_row10_col1\" class=\"data row10 col1\" >7922.000000</td>\n",
       "      <td id=\"T_26e24_row10_col2\" class=\"data row10 col2\" >7935.000000</td>\n",
       "      <td id=\"T_26e24_row10_col3\" class=\"data row10 col3\" >nan</td>\n",
       "    </tr>\n",
       "    <tr>\n",
       "      <th id=\"T_26e24_level0_row11\" class=\"row_heading level0 row11\" >12</th>\n",
       "      <td id=\"T_26e24_row11_col0\" class=\"data row11 col0\" >7987.000000</td>\n",
       "      <td id=\"T_26e24_row11_col1\" class=\"data row11 col1\" >7951.000000</td>\n",
       "      <td id=\"T_26e24_row11_col2\" class=\"data row11 col2\" >7535.000000</td>\n",
       "      <td id=\"T_26e24_row11_col3\" class=\"data row11 col3\" >nan</td>\n",
       "    </tr>\n",
       "  </tbody>\n",
       "</table>\n"
      ],
      "text/plain": [
       "<pandas.io.formats.style.Styler at 0x252ff93bd70>"
      ]
     },
     "execution_count": 66,
     "metadata": {},
     "output_type": "execute_result"
    }
   ],
   "source": [
    "def highlight_max(s,props=''):\n",
    "    return np.where(s == np.nanmax(s.values),props,'')\n",
    "\n",
    "s2.apply(highlight_max,props='color:white;background-color:darkgreen',axis=0)"
   ]
  },
  {
   "cell_type": "markdown",
   "id": "b14e7a0d-6532-431d-abd0-a0a77afa516c",
   "metadata": {
    "jp-MarkdownHeadingCollapsed": true
   },
   "source": [
    "### Months with below than average crime rate is blue and months with highest crime rate taht year are highlighted in green"
   ]
  },
  {
   "cell_type": "code",
   "execution_count": 72,
   "id": "9035f05f-f4d9-4d52-9709-fb43cbc16e80",
   "metadata": {
    "scrolled": true
   },
   "outputs": [
    {
     "name": "stdout",
     "output_type": "stream",
     "text": [
      "The average crime is 7976.25\n"
     ]
    },
    {
     "data": {
      "text/html": [
       "<style type=\"text/css\">\n",
       "#T_26e24_row0_col1, #T_26e24_row0_col3, #T_26e24_row1_col1, #T_26e24_row1_col2, #T_26e24_row1_col3, #T_26e24_row2_col3, #T_26e24_row3_col3, #T_26e24_row5_col0, #T_26e24_row8_col3, #T_26e24_row10_col0, #T_26e24_row10_col1, #T_26e24_row10_col2, #T_26e24_row11_col1, #T_26e24_row11_col2 {\n",
       "  color: blue;\n",
       "}\n",
       "#T_26e24_row4_col3, #T_26e24_row7_col1, #T_26e24_row7_col2, #T_26e24_row8_col0 {\n",
       "  color: white;\n",
       "  background-color: darkgreen;\n",
       "}\n",
       "</style>\n",
       "<table id=\"T_26e24\">\n",
       "  <thead>\n",
       "    <tr>\n",
       "      <th class=\"index_name level0\" >YEAR</th>\n",
       "      <th id=\"T_26e24_level0_col0\" class=\"col_heading level0 col0\" >2015</th>\n",
       "      <th id=\"T_26e24_level0_col1\" class=\"col_heading level0 col1\" >2016</th>\n",
       "      <th id=\"T_26e24_level0_col2\" class=\"col_heading level0 col2\" >2017</th>\n",
       "      <th id=\"T_26e24_level0_col3\" class=\"col_heading level0 col3\" >2018</th>\n",
       "    </tr>\n",
       "    <tr>\n",
       "      <th class=\"index_name level0\" >MONTH</th>\n",
       "      <th class=\"blank col0\" >&nbsp;</th>\n",
       "      <th class=\"blank col1\" >&nbsp;</th>\n",
       "      <th class=\"blank col2\" >&nbsp;</th>\n",
       "      <th class=\"blank col3\" >&nbsp;</th>\n",
       "    </tr>\n",
       "  </thead>\n",
       "  <tbody>\n",
       "    <tr>\n",
       "      <th id=\"T_26e24_level0_row0\" class=\"row_heading level0 row0\" >1</th>\n",
       "      <td id=\"T_26e24_row0_col0\" class=\"data row0 col0\" >nan</td>\n",
       "      <td id=\"T_26e24_row0_col1\" class=\"data row0 col1\" >7835.000000</td>\n",
       "      <td id=\"T_26e24_row0_col2\" class=\"data row0 col2\" >7991.000000</td>\n",
       "      <td id=\"T_26e24_row0_col3\" class=\"data row0 col3\" >7782.000000</td>\n",
       "    </tr>\n",
       "    <tr>\n",
       "      <th id=\"T_26e24_level0_row1\" class=\"row_heading level0 row1\" >2</th>\n",
       "      <td id=\"T_26e24_row1_col0\" class=\"data row1 col0\" >nan</td>\n",
       "      <td id=\"T_26e24_row1_col1\" class=\"data row1 col1\" >7307.000000</td>\n",
       "      <td id=\"T_26e24_row1_col2\" class=\"data row1 col2\" >7408.000000</td>\n",
       "      <td id=\"T_26e24_row1_col3\" class=\"data row1 col3\" >6937.000000</td>\n",
       "    </tr>\n",
       "    <tr>\n",
       "      <th id=\"T_26e24_level0_row2\" class=\"row_heading level0 row2\" >3</th>\n",
       "      <td id=\"T_26e24_row2_col0\" class=\"data row2 col0\" >nan</td>\n",
       "      <td id=\"T_26e24_row2_col1\" class=\"data row2 col1\" >8199.000000</td>\n",
       "      <td id=\"T_26e24_row2_col2\" class=\"data row2 col2\" >8179.000000</td>\n",
       "      <td id=\"T_26e24_row2_col3\" class=\"data row2 col3\" >7768.000000</td>\n",
       "    </tr>\n",
       "    <tr>\n",
       "      <th id=\"T_26e24_level0_row3\" class=\"row_heading level0 row3\" >4</th>\n",
       "      <td id=\"T_26e24_row3_col0\" class=\"data row3 col0\" >nan</td>\n",
       "      <td id=\"T_26e24_row3_col1\" class=\"data row3 col1\" >8101.000000</td>\n",
       "      <td id=\"T_26e24_row3_col2\" class=\"data row3 col2\" >8069.000000</td>\n",
       "      <td id=\"T_26e24_row3_col3\" class=\"data row3 col3\" >7916.000000</td>\n",
       "    </tr>\n",
       "    <tr>\n",
       "      <th id=\"T_26e24_level0_row4\" class=\"row_heading level0 row4\" >5</th>\n",
       "      <td id=\"T_26e24_row4_col0\" class=\"data row4 col0\" >nan</td>\n",
       "      <td id=\"T_26e24_row4_col1\" class=\"data row4 col1\" >8578.000000</td>\n",
       "      <td id=\"T_26e24_row4_col2\" class=\"data row4 col2\" >8715.000000</td>\n",
       "      <td id=\"T_26e24_row4_col3\" class=\"data row4 col3\" >8906.000000</td>\n",
       "    </tr>\n",
       "    <tr>\n",
       "      <th id=\"T_26e24_level0_row5\" class=\"row_heading level0 row5\" >6</th>\n",
       "      <td id=\"T_26e24_row5_col0\" class=\"data row5 col0\" >4188.000000</td>\n",
       "      <td id=\"T_26e24_row5_col1\" class=\"data row5 col1\" >8558.000000</td>\n",
       "      <td id=\"T_26e24_row5_col2\" class=\"data row5 col2\" >8985.000000</td>\n",
       "      <td id=\"T_26e24_row5_col3\" class=\"data row5 col3\" >8834.000000</td>\n",
       "    </tr>\n",
       "    <tr>\n",
       "      <th id=\"T_26e24_level0_row6\" class=\"row_heading level0 row6\" >7</th>\n",
       "      <td id=\"T_26e24_row6_col0\" class=\"data row6 col0\" >8322.000000</td>\n",
       "      <td id=\"T_26e24_row6_col1\" class=\"data row6 col1\" >8618.000000</td>\n",
       "      <td id=\"T_26e24_row6_col2\" class=\"data row6 col2\" >9075.000000</td>\n",
       "      <td id=\"T_26e24_row6_col3\" class=\"data row6 col3\" >8538.000000</td>\n",
       "    </tr>\n",
       "    <tr>\n",
       "      <th id=\"T_26e24_level0_row7\" class=\"row_heading level0 row7\" >8</th>\n",
       "      <td id=\"T_26e24_row7_col0\" class=\"data row7 col0\" >8340.000000</td>\n",
       "      <td id=\"T_26e24_row7_col1\" class=\"data row7 col1\" >8938.000000</td>\n",
       "      <td id=\"T_26e24_row7_col2\" class=\"data row7 col2\" >9206.000000</td>\n",
       "      <td id=\"T_26e24_row7_col3\" class=\"data row7 col3\" >8337.000000</td>\n",
       "    </tr>\n",
       "    <tr>\n",
       "      <th id=\"T_26e24_level0_row8\" class=\"row_heading level0 row8\" >9</th>\n",
       "      <td id=\"T_26e24_row8_col0\" class=\"data row8 col0\" >8411.000000</td>\n",
       "      <td id=\"T_26e24_row8_col1\" class=\"data row8 col1\" >8521.000000</td>\n",
       "      <td id=\"T_26e24_row8_col2\" class=\"data row8 col2\" >8940.000000</td>\n",
       "      <td id=\"T_26e24_row8_col3\" class=\"data row8 col3\" >667.000000</td>\n",
       "    </tr>\n",
       "    <tr>\n",
       "      <th id=\"T_26e24_level0_row9\" class=\"row_heading level0 row9\" >10</th>\n",
       "      <td id=\"T_26e24_row9_col0\" class=\"data row9 col0\" >8305.000000</td>\n",
       "      <td id=\"T_26e24_row9_col1\" class=\"data row9 col1\" >8582.000000</td>\n",
       "      <td id=\"T_26e24_row9_col2\" class=\"data row9 col2\" >8846.000000</td>\n",
       "      <td id=\"T_26e24_row9_col3\" class=\"data row9 col3\" >nan</td>\n",
       "    </tr>\n",
       "    <tr>\n",
       "      <th id=\"T_26e24_level0_row10\" class=\"row_heading level0 row10\" >11</th>\n",
       "      <td id=\"T_26e24_row10_col0\" class=\"data row10 col0\" >7818.000000</td>\n",
       "      <td id=\"T_26e24_row10_col1\" class=\"data row10 col1\" >7922.000000</td>\n",
       "      <td id=\"T_26e24_row10_col2\" class=\"data row10 col2\" >7935.000000</td>\n",
       "      <td id=\"T_26e24_row10_col3\" class=\"data row10 col3\" >nan</td>\n",
       "    </tr>\n",
       "    <tr>\n",
       "      <th id=\"T_26e24_level0_row11\" class=\"row_heading level0 row11\" >12</th>\n",
       "      <td id=\"T_26e24_row11_col0\" class=\"data row11 col0\" >7987.000000</td>\n",
       "      <td id=\"T_26e24_row11_col1\" class=\"data row11 col1\" >7951.000000</td>\n",
       "      <td id=\"T_26e24_row11_col2\" class=\"data row11 col2\" >7535.000000</td>\n",
       "      <td id=\"T_26e24_row11_col3\" class=\"data row11 col3\" >nan</td>\n",
       "    </tr>\n",
       "  </tbody>\n",
       "</table>\n"
      ],
      "text/plain": [
       "<pandas.io.formats.style.Styler at 0x252ff93bd70>"
      ]
     },
     "execution_count": 72,
     "metadata": {},
     "output_type": "execute_result"
    }
   ],
   "source": [
    "print('The average crime is ' + str(avg_crime))\n",
    "s2"
   ]
  },
  {
   "cell_type": "markdown",
   "id": "aaf00a64-6f3b-4230-9257-5a4b9a11d99b",
   "metadata": {
    "jp-MarkdownHeadingCollapsed": true
   },
   "source": [
    "### In which districts were the most crimes committed on yearly bases"
   ]
  },
  {
   "cell_type": "code",
   "execution_count": 77,
   "id": "9e70f17b-c40b-448f-a46e-1910a7b9de3b",
   "metadata": {},
   "outputs": [],
   "source": [
    "dist_and_year = crime.groupby(['DISTRICT','YEAR']).count()['INCIDENT_NUMBER'].unstack()"
   ]
  },
  {
   "cell_type": "code",
   "execution_count": 78,
   "id": "ab42e138-8d1f-4e88-8372-144433fd165a",
   "metadata": {},
   "outputs": [
    {
     "data": {
      "text/plain": [
       "<Axes: xlabel='YEAR', ylabel='DISTRICT'>"
      ]
     },
     "execution_count": 78,
     "metadata": {},
     "output_type": "execute_result"
    },
    {
     "data": {
      "image/png": "[encoded data removed]",
      "text/plain": [
       "<Figure size 640x480 with 2 Axes>"
      ]
     },
     "metadata": {},
     "output_type": "display_data"
    }
   ],
   "source": [
    "sns.heatmap(dist_and_year, cmap = sns.cubehelix_palette(as_cmap=True))"
   ]
  },
  {
   "cell_type": "code",
   "execution_count": 83,
   "id": "90abca69-cac0-4f65-9f26-1c75d893c1ba",
   "metadata": {},
   "outputs": [
    {
     "name": "stdout",
     "output_type": "stream",
     "text": [
      "The average crime is 6610.104166666667\n"
     ]
    },
    {
     "data": {
      "text/html": [
       "<style type=\"text/css\">\n",
       "#T_b3ac1_row0_col0, #T_b3ac1_row1_col0, #T_b3ac1_row1_col1, #T_b3ac1_row1_col2, #T_b3ac1_row1_col3, #T_b3ac1_row2_col0, #T_b3ac1_row2_col1, #T_b3ac1_row2_col2, #T_b3ac1_row2_col3, #T_b3ac1_row4_col0, #T_b3ac1_row6_col0, #T_b3ac1_row6_col3, #T_b3ac1_row7_col0, #T_b3ac1_row7_col1, #T_b3ac1_row7_col2, #T_b3ac1_row7_col3, #T_b3ac1_row9_col0, #T_b3ac1_row9_col1, #T_b3ac1_row9_col2, #T_b3ac1_row9_col3, #T_b3ac1_row10_col0, #T_b3ac1_row10_col1, #T_b3ac1_row10_col2, #T_b3ac1_row10_col3, #T_b3ac1_row11_col0, #T_b3ac1_row11_col1, #T_b3ac1_row11_col2, #T_b3ac1_row11_col3 {\n",
       "  color: blue;\n",
       "}\n",
       "#T_b3ac1_row3_col0, #T_b3ac1_row3_col1, #T_b3ac1_row3_col2, #T_b3ac1_row3_col3 {\n",
       "  color: white;\n",
       "  background-color: darkgreen;\n",
       "}\n",
       "</style>\n",
       "<table id=\"T_b3ac1\">\n",
       "  <thead>\n",
       "    <tr>\n",
       "      <th class=\"index_name level0\" >YEAR</th>\n",
       "      <th id=\"T_b3ac1_level0_col0\" class=\"col_heading level0 col0\" >2015</th>\n",
       "      <th id=\"T_b3ac1_level0_col1\" class=\"col_heading level0 col1\" >2016</th>\n",
       "      <th id=\"T_b3ac1_level0_col2\" class=\"col_heading level0 col2\" >2017</th>\n",
       "      <th id=\"T_b3ac1_level0_col3\" class=\"col_heading level0 col3\" >2018</th>\n",
       "    </tr>\n",
       "    <tr>\n",
       "      <th class=\"index_name level0\" >DISTRICT</th>\n",
       "      <th class=\"blank col0\" >&nbsp;</th>\n",
       "      <th class=\"blank col1\" >&nbsp;</th>\n",
       "      <th class=\"blank col2\" >&nbsp;</th>\n",
       "      <th class=\"blank col3\" >&nbsp;</th>\n",
       "    </tr>\n",
       "  </thead>\n",
       "  <tbody>\n",
       "    <tr>\n",
       "      <th id=\"T_b3ac1_level0_row0\" class=\"row_heading level0 row0\" >A1</th>\n",
       "      <td id=\"T_b3ac1_row0_col0\" class=\"data row0 col0\" >6010</td>\n",
       "      <td id=\"T_b3ac1_row0_col1\" class=\"data row0 col1\" >10922</td>\n",
       "      <td id=\"T_b3ac1_row0_col2\" class=\"data row0 col2\" >11374</td>\n",
       "      <td id=\"T_b3ac1_row0_col3\" class=\"data row0 col3\" >7404</td>\n",
       "    </tr>\n",
       "    <tr>\n",
       "      <th id=\"T_b3ac1_level0_row1\" class=\"row_heading level0 row1\" >A15</th>\n",
       "      <td id=\"T_b3ac1_row1_col0\" class=\"data row1 col0\" >1027</td>\n",
       "      <td id=\"T_b3ac1_row1_col1\" class=\"data row1 col1\" >1986</td>\n",
       "      <td id=\"T_b3ac1_row1_col2\" class=\"data row1 col2\" >2167</td>\n",
       "      <td id=\"T_b3ac1_row1_col3\" class=\"data row1 col3\" >1325</td>\n",
       "    </tr>\n",
       "    <tr>\n",
       "      <th id=\"T_b3ac1_level0_row2\" class=\"row_heading level0 row2\" >A7</th>\n",
       "      <td id=\"T_b3ac1_row2_col0\" class=\"data row2 col0\" >2426</td>\n",
       "      <td id=\"T_b3ac1_row2_col1\" class=\"data row2 col1\" >4130</td>\n",
       "      <td id=\"T_b3ac1_row2_col2\" class=\"data row2 col2\" >4264</td>\n",
       "      <td id=\"T_b3ac1_row2_col3\" class=\"data row2 col3\" >2724</td>\n",
       "    </tr>\n",
       "    <tr>\n",
       "      <th id=\"T_b3ac1_level0_row3\" class=\"row_heading level0 row3\" >B2</th>\n",
       "      <td id=\"T_b3ac1_row3_col0\" class=\"data row3 col0\" >8682</td>\n",
       "      <td id=\"T_b3ac1_row3_col1\" class=\"data row3 col1\" >15706</td>\n",
       "      <td id=\"T_b3ac1_row3_col2\" class=\"data row3 col2\" >15680</td>\n",
       "      <td id=\"T_b3ac1_row3_col3\" class=\"data row3 col3\" >9872</td>\n",
       "    </tr>\n",
       "    <tr>\n",
       "      <th id=\"T_b3ac1_level0_row4\" class=\"row_heading level0 row4\" >B3</th>\n",
       "      <td id=\"T_b3ac1_row4_col0\" class=\"data row4 col0\" >5616</td>\n",
       "      <td id=\"T_b3ac1_row4_col1\" class=\"data row4 col1\" >11145</td>\n",
       "      <td id=\"T_b3ac1_row4_col2\" class=\"data row4 col2\" >11195</td>\n",
       "      <td id=\"T_b3ac1_row4_col3\" class=\"data row4 col3\" >7485</td>\n",
       "    </tr>\n",
       "    <tr>\n",
       "      <th id=\"T_b3ac1_level0_row5\" class=\"row_heading level0 row5\" >C11</th>\n",
       "      <td id=\"T_b3ac1_row5_col0\" class=\"data row5 col0\" >7363</td>\n",
       "      <td id=\"T_b3ac1_row5_col1\" class=\"data row5 col1\" >13602</td>\n",
       "      <td id=\"T_b3ac1_row5_col2\" class=\"data row5 col2\" >13281</td>\n",
       "      <td id=\"T_b3ac1_row5_col3\" class=\"data row5 col3\" >8282</td>\n",
       "    </tr>\n",
       "    <tr>\n",
       "      <th id=\"T_b3ac1_level0_row6\" class=\"row_heading level0 row6\" >C6</th>\n",
       "      <td id=\"T_b3ac1_row6_col0\" class=\"data row6 col0\" >3939</td>\n",
       "      <td id=\"T_b3ac1_row6_col1\" class=\"data row6 col1\" >7072</td>\n",
       "      <td id=\"T_b3ac1_row6_col2\" class=\"data row6 col2\" >7247</td>\n",
       "      <td id=\"T_b3ac1_row6_col3\" class=\"data row6 col3\" >5199</td>\n",
       "    </tr>\n",
       "    <tr>\n",
       "      <th id=\"T_b3ac1_level0_row7\" class=\"row_heading level0 row7\" >D14</th>\n",
       "      <td id=\"T_b3ac1_row7_col0\" class=\"data row7 col0\" >3280</td>\n",
       "      <td id=\"T_b3ac1_row7_col1\" class=\"data row7 col1\" >6279</td>\n",
       "      <td id=\"T_b3ac1_row7_col2\" class=\"data row7 col2\" >6509</td>\n",
       "      <td id=\"T_b3ac1_row7_col3\" class=\"data row7 col3\" >4059</td>\n",
       "    </tr>\n",
       "    <tr>\n",
       "      <th id=\"T_b3ac1_level0_row8\" class=\"row_heading level0 row8\" >D4</th>\n",
       "      <td id=\"T_b3ac1_row8_col0\" class=\"data row8 col0\" >7203</td>\n",
       "      <td id=\"T_b3ac1_row8_col1\" class=\"data row8 col1\" >12953</td>\n",
       "      <td id=\"T_b3ac1_row8_col2\" class=\"data row8 col2\" >13157</td>\n",
       "      <td id=\"T_b3ac1_row8_col3\" class=\"data row8 col3\" >8601</td>\n",
       "    </tr>\n",
       "    <tr>\n",
       "      <th id=\"T_b3ac1_level0_row9\" class=\"row_heading level0 row9\" >E13</th>\n",
       "      <td id=\"T_b3ac1_row9_col0\" class=\"data row9 col0\" >2800</td>\n",
       "      <td id=\"T_b3ac1_row9_col1\" class=\"data row9 col1\" >5558</td>\n",
       "      <td id=\"T_b3ac1_row9_col2\" class=\"data row9 col2\" >5514</td>\n",
       "      <td id=\"T_b3ac1_row9_col3\" class=\"data row9 col3\" >3662</td>\n",
       "    </tr>\n",
       "    <tr>\n",
       "      <th id=\"T_b3ac1_level0_row10\" class=\"row_heading level0 row10\" >E18</th>\n",
       "      <td id=\"T_b3ac1_row10_col0\" class=\"data row10 col0\" >2740</td>\n",
       "      <td id=\"T_b3ac1_row10_col1\" class=\"data row10 col1\" >5223</td>\n",
       "      <td id=\"T_b3ac1_row10_col2\" class=\"data row10 col2\" >5611</td>\n",
       "      <td id=\"T_b3ac1_row10_col3\" class=\"data row10 col3\" >3773</td>\n",
       "    </tr>\n",
       "    <tr>\n",
       "      <th id=\"T_b3ac1_level0_row11\" class=\"row_heading level0 row11\" >E5</th>\n",
       "      <td id=\"T_b3ac1_row11_col0\" class=\"data row11 col0\" >2157</td>\n",
       "      <td id=\"T_b3ac1_row11_col1\" class=\"data row11 col1\" >4017</td>\n",
       "      <td id=\"T_b3ac1_row11_col2\" class=\"data row11 col2\" >4309</td>\n",
       "      <td id=\"T_b3ac1_row11_col3\" class=\"data row11 col3\" >2755</td>\n",
       "    </tr>\n",
       "  </tbody>\n",
       "</table>\n"
      ],
      "text/plain": [
       "<pandas.io.formats.style.Styler at 0x252f942d220>"
      ]
     },
     "execution_count": 83,
     "metadata": {},
     "output_type": "execute_result"
    }
   ],
   "source": [
    "dist_avg_crime = crime.groupby(['DISTRICT','YEAR']).count()['INCIDENT_NUMBER'].mean()\n",
    "print('The average crime is ' + str(dist_avg_crime))\n",
    "\n",
    "\n",
    "def style_negative(v,props=''):\n",
    "    return props if v < dist_avg_crime else None\n",
    "s3 = dist_and_year.style.map(style_negative, props='color:blue')\\\n",
    ".map(lambda v:'opacity:20%' if(v<0.3) and (v>-0.3) else None)\n",
    "\n",
    "def highlight_max(s, props=''):\n",
    "    return np.where(s == np.nanmax(s.values), props, '')\n",
    "s3.apply(highlight_max, props='color:white;background-color:darkgreen', axis=0)\n"
   ]
  },
  {
   "cell_type": "code",
   "execution_count": null,
   "id": "100250c2-0e68-4838-8a41-8c8fd1a0a3f8",
   "metadata": {},
   "outputs": [],
   "source": []
  }
 ],
 "metadata": {
  "kernelspec": {
   "display_name": "Python 3 (ipykernel)",
   "language": "python",
   "name": "python3"
  },
  "language_info": {
   "codemirror_mode": {
    "name": "ipython",
    "version": 3
   },
   "file_extension": ".py",
   "mimetype": "text/x-python",
   "name": "python",
   "nbconvert_exporter": "python",
   "pygments_lexer": "ipython3",
   "version": "3.12.3"
  }
 },
 "nbformat": 4,
 "nbformat_minor": 5
}
